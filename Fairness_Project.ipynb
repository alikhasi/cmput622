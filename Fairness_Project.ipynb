{
  "nbformat": 4,
  "nbformat_minor": 0,
  "metadata": {
    "colab": {
      "name": "Fairness Project.ipynb",
      "provenance": [],
      "collapsed_sections": [],
      "toc_visible": true
    },
    "kernelspec": {
      "name": "python3",
      "display_name": "Python 3"
    },
    "language_info": {
      "name": "python"
    }
  },
  "cells": [
    {
      "cell_type": "code",
      "metadata": {
        "colab": {
          "base_uri": "https://localhost:8080/"
        },
        "id": "KalsaMX_hlNx",
        "outputId": "7957a9c5-9545-4b73-dc6d-ea7f3110dcc6"
      },
      "source": [
        "!pip install openml"
      ],
      "execution_count": null,
      "outputs": [
        {
          "output_type": "stream",
          "name": "stdout",
          "text": [
            "Collecting openml\n",
            "  Downloading openml-0.12.2.tar.gz (119 kB)\n",
            "\u001b[?25l\r\u001b[K     |██▊                             | 10 kB 16.7 MB/s eta 0:00:01\r\u001b[K     |█████▌                          | 20 kB 19.7 MB/s eta 0:00:01\r\u001b[K     |████████▏                       | 30 kB 6.3 MB/s eta 0:00:01\r\u001b[K     |███████████                     | 40 kB 7.8 MB/s eta 0:00:01\r\u001b[K     |█████████████▋                  | 51 kB 5.8 MB/s eta 0:00:01\r\u001b[K     |████████████████▍               | 61 kB 6.2 MB/s eta 0:00:01\r\u001b[K     |███████████████████▏            | 71 kB 6.0 MB/s eta 0:00:01\r\u001b[K     |█████████████████████▉          | 81 kB 6.7 MB/s eta 0:00:01\r\u001b[K     |████████████████████████▋       | 92 kB 4.9 MB/s eta 0:00:01\r\u001b[K     |███████████████████████████▎    | 102 kB 5.4 MB/s eta 0:00:01\r\u001b[K     |██████████████████████████████  | 112 kB 5.4 MB/s eta 0:00:01\r\u001b[K     |████████████████████████████████| 119 kB 5.4 MB/s \n",
            "\u001b[?25hCollecting liac-arff>=2.4.0\n",
            "  Downloading liac-arff-2.5.0.tar.gz (13 kB)\n",
            "Collecting xmltodict\n",
            "  Downloading xmltodict-0.12.0-py2.py3-none-any.whl (9.2 kB)\n",
            "Requirement already satisfied: requests in /usr/local/lib/python3.7/dist-packages (from openml) (2.23.0)\n",
            "Requirement already satisfied: scikit-learn>=0.18 in /usr/local/lib/python3.7/dist-packages (from openml) (1.0.1)\n",
            "Requirement already satisfied: python-dateutil in /usr/local/lib/python3.7/dist-packages (from openml) (2.8.2)\n",
            "Requirement already satisfied: pandas>=1.0.0 in /usr/local/lib/python3.7/dist-packages (from openml) (1.1.5)\n",
            "Requirement already satisfied: scipy>=0.13.3 in /usr/local/lib/python3.7/dist-packages (from openml) (1.4.1)\n",
            "Requirement already satisfied: numpy>=1.6.2 in /usr/local/lib/python3.7/dist-packages (from openml) (1.19.5)\n",
            "Collecting minio\n",
            "  Downloading minio-7.1.2-py3-none-any.whl (75 kB)\n",
            "\u001b[K     |████████████████████████████████| 75 kB 3.8 MB/s \n",
            "\u001b[?25hRequirement already satisfied: pyarrow in /usr/local/lib/python3.7/dist-packages (from openml) (3.0.0)\n",
            "Requirement already satisfied: pytz>=2017.2 in /usr/local/lib/python3.7/dist-packages (from pandas>=1.0.0->openml) (2018.9)\n",
            "Requirement already satisfied: six>=1.5 in /usr/local/lib/python3.7/dist-packages (from python-dateutil->openml) (1.15.0)\n",
            "Requirement already satisfied: joblib>=0.11 in /usr/local/lib/python3.7/dist-packages (from scikit-learn>=0.18->openml) (1.1.0)\n",
            "Requirement already satisfied: threadpoolctl>=2.0.0 in /usr/local/lib/python3.7/dist-packages (from scikit-learn>=0.18->openml) (3.0.0)\n",
            "Requirement already satisfied: certifi in /usr/local/lib/python3.7/dist-packages (from minio->openml) (2021.10.8)\n",
            "Requirement already satisfied: urllib3 in /usr/local/lib/python3.7/dist-packages (from minio->openml) (1.24.3)\n",
            "Requirement already satisfied: idna<3,>=2.5 in /usr/local/lib/python3.7/dist-packages (from requests->openml) (2.10)\n",
            "Requirement already satisfied: chardet<4,>=3.0.2 in /usr/local/lib/python3.7/dist-packages (from requests->openml) (3.0.4)\n",
            "Building wheels for collected packages: openml, liac-arff\n",
            "  Building wheel for openml (setup.py) ... \u001b[?25l\u001b[?25hdone\n",
            "  Created wheel for openml: filename=openml-0.12.2-py3-none-any.whl size=137327 sha256=b208aa2f0f03f2580e79180bcbe5b46e5bab4a19a9e6e496641a6bfa094f5e6e\n",
            "  Stored in directory: /root/.cache/pip/wheels/6a/20/88/cf4ac86aa18e2cd647ed16ebe274a5dacee9d0075fa02af250\n",
            "  Building wheel for liac-arff (setup.py) ... \u001b[?25l\u001b[?25hdone\n",
            "  Created wheel for liac-arff: filename=liac_arff-2.5.0-py3-none-any.whl size=11731 sha256=565b1833fd4ce5ed5220d97a7086bc82fb9ed90c0a4405cf2b123eeaa223be8f\n",
            "  Stored in directory: /root/.cache/pip/wheels/1f/0f/15/332ca86cbebf25ddf98518caaf887945fbe1712b97a0f2493b\n",
            "Successfully built openml liac-arff\n",
            "Installing collected packages: xmltodict, minio, liac-arff, openml\n",
            "Successfully installed liac-arff-2.5.0 minio-7.1.2 openml-0.12.2 xmltodict-0.12.0\n"
          ]
        }
      ]
    },
    {
      "cell_type": "code",
      "metadata": {
        "id": "xt-hlr06cPGq"
      },
      "source": [
        "import os\n",
        "import numpy as np\n",
        "import pandas as pd \n",
        "import tensorflow as tf\n",
        "from keras.datasets import mnist\n",
        "from matplotlib import pyplot\n",
        "from tensorflow.keras.layers import Dense, Dropout, Conv2D, MaxPool2D, Flatten, Input, Lambda\n",
        "from tensorflow.keras.utils import to_categorical\n",
        "from tensorflow.keras import backend as K\n",
        "from tensorflow.keras.models import Model, Sequential\n",
        "from tensorflow.keras import regularizers, losses\n",
        "import matplotlib.pyplot as plt\n",
        "import openml\n",
        "import math\n",
        "import seaborn as sns\n",
        "from sklearn import svm\n",
        "from sklearn.metrics import confusion_matrix\n",
        "from sklearn.metrics import classification_report"
      ],
      "execution_count": null,
      "outputs": []
    },
    {
      "cell_type": "code",
      "metadata": {
        "colab": {
          "base_uri": "https://localhost:8080/"
        },
        "id": "TwKx4SCNVFN2",
        "outputId": "e6925c02-a359-4b1d-ca90-83e8dab02d41"
      },
      "source": [
        "from google.colab import drive\n",
        "drive.mount('/content/gdrive')"
      ],
      "execution_count": null,
      "outputs": [
        {
          "output_type": "stream",
          "name": "stdout",
          "text": [
            "Mounted at /content/gdrive\n"
          ]
        }
      ]
    },
    {
      "cell_type": "markdown",
      "metadata": {
        "id": "lgBRt7AyBDG_"
      },
      "source": [
        "# Train and Test on MNIST"
      ]
    },
    {
      "cell_type": "markdown",
      "metadata": {
        "id": "t9s76jnHBHwV"
      },
      "source": [
        "## load and preprocess data"
      ]
    },
    {
      "cell_type": "code",
      "metadata": {
        "id": "RGLehYKscRjA"
      },
      "source": [
        "def load_mnist():\n",
        "    (trainX, trainY), (testX, testY) = mnist.load_data()\n",
        "    \n",
        "    # summarize loaded dataset\n",
        "    print('Train: X=%s, y=%s' % (trainX.shape, trainY.shape))\n",
        "    print('Test: X=%s, y=%s' % (testX.shape, testY.shape))\n",
        "    \n",
        "    # reshape dataset to have a single faltten shape\n",
        "    trainX = trainX.reshape((trainX.shape[0], 28 * 28))\n",
        "    testX = testX.reshape((testX.shape[0], 28 * 28))\n",
        "\n",
        "    # one hot encode target values\n",
        "    trainY = to_categorical(trainY)\n",
        "    testY = to_categorical(testY)\n",
        "\n",
        "    return trainX, trainY, testX, testY"
      ],
      "execution_count": null,
      "outputs": []
    },
    {
      "cell_type": "code",
      "metadata": {
        "id": "aIDfb658cUru"
      },
      "source": [
        "# scale pixels\n",
        "def prep_pixels(train, test):\n",
        "\t# convert from integers to floats\n",
        "\ttrain_norm = train.astype('float32')\n",
        "\ttest_norm = test.astype('float32')\n",
        "\t\n",
        "    # normalize to range (0, 1)\n",
        "\ttrain_norm = (train_norm) / 255.0\n",
        "\ttest_norm = (test_norm) / 255.0\n",
        "\t\n",
        "    # return normalized images\n",
        "\treturn train_norm, test_norm"
      ],
      "execution_count": null,
      "outputs": []
    },
    {
      "cell_type": "markdown",
      "metadata": {
        "id": "-zVVgx7_BadW"
      },
      "source": [
        "## Define the model"
      ]
    },
    {
      "cell_type": "code",
      "metadata": {
        "id": "K9bdIr7yjeCo"
      },
      "source": [
        "# building model\n",
        "class VAE(object):\n",
        "    def build_model(self, intermediate_dim, latent_dim, original_dim, kl_weight_start = 0, epsilon_std=1.):\n",
        "\n",
        "        \"\"\"\n",
        "        Creates a Variational Autoencoder (VAE). Returns VAE, Encoder, Generator. \n",
        "        # Arguments\n",
        "            latent_dim: int, latent z-layer shape. \n",
        "            epsilon_std: float, z-layer sigma.\n",
        "        # References\n",
        "            - [Building Autoencoders in Keras](https://blog.keras.io/building-autoencoders-in-keras.html)\n",
        "        \"\"\"        \n",
        "        self.vae = None\n",
        "        self.encoder = None\n",
        "        self.decoder = None\n",
        "\n",
        "        inputs = Input(shape=(original_dim, ))\n",
        "        h = Dense(intermediate_dim, activation='relu', kernel_initializer='he_uniform')(inputs)\n",
        "\n",
        "        # VAE Z layer\n",
        "        z_mean = Dense(latent_dim)(h)\n",
        "        z_log_sigma = Dense(latent_dim)(h)\n",
        "\n",
        "        def sampling(args):\n",
        "            z_mean, z_log_sigma = args\n",
        "            epsilon = K.random_normal(shape=(K.shape(z_mean)[0], latent_dim), mean=0., stddev=0.1)\n",
        "            return z_mean + K.exp(z_log_sigma) * epsilon\n",
        "\n",
        "        z = Lambda(sampling)([z_mean, z_log_sigma])\n",
        "\n",
        "        # Create encoder\n",
        "        self.encoder = Model(inputs, [z_mean, z_log_sigma, z], name='encoder')\n",
        "\n",
        "        # Create decoder\n",
        "        latent_inputs = Input(shape=(latent_dim,), name='z_sampling')\n",
        "        x = Dense(intermediate_dim, activation='relu')(latent_inputs)\n",
        "        outputs = Dense(original_dim, activation='sigmoid')(x)\n",
        "        self.decoder = Model(latent_inputs, outputs, name='decoder')\n",
        "\n",
        "        # instantiate VAE model\n",
        "        outputs = self.decoder(self.encoder(inputs)[2])\n",
        "        self.vae = Model(inputs, outputs, name='vae_mlp')\n",
        "\n",
        "        reconstruction_loss = losses.binary_crossentropy(inputs, outputs)\n",
        "        reconstruction_loss *= original_dim\n",
        "        kl_loss = 1 + z_log_sigma - K.square(z_mean) - K.exp(z_log_sigma)\n",
        "        kl_loss = K.sum(kl_loss, axis=-1)\n",
        "        kl_loss *= -0.5\n",
        "        vae_loss = K.mean(reconstruction_loss + kl_loss)\n",
        "        self.vae.add_loss(vae_loss)\n",
        "        self.vae.compile(optimizer='adam')"
      ],
      "execution_count": null,
      "outputs": []
    },
    {
      "cell_type": "code",
      "metadata": {
        "id": "rbOQ4Bl1ca5h"
      },
      "source": [
        "def create_ensemble(model_class, k, model_params):\n",
        "    models = []\n",
        "    for i in range(k):\n",
        "        model = model_class()\n",
        "        model.build_model(\n",
        "            intermediate_dim=model_params['intermediate_dim'],\n",
        "            latent_dim=model_params['latent_dim'], original_dim=model_params['original_dim'])\n",
        "        models.append(model)\n",
        "    \n",
        "    return models\n",
        "\n",
        "def train_ensemble(models, model_name, x_train, y_train, x_test, y_test, epochs = 100, batch_size = 62):\n",
        "    base_path = \"/content/gdrive/My Drive/Fairness_Project/\"\n",
        "\n",
        "    # train models\n",
        "    results = []\n",
        "    n = len(x_train)\n",
        "    k = len(models)\n",
        "    for i in range(k):\n",
        "        print(\"Training Model {}\".format(i + 1))\n",
        "        index = np.r_[0:int(i * n / k), int((i + 1) * n / k):]\n",
        "        x = x_train[index]\n",
        "        y = y_train[index]\n",
        "        \n",
        "        # Create a callback that saves the model's weights\n",
        "        checkpoint_path = base_path + model_name + str(i) + \"_cp.ckpt\"\n",
        "        checkpoint_dir = os.path.dirname(checkpoint_path)\n",
        "        cp_callback = tf.keras.callbacks.ModelCheckpoint(filepath=checkpoint_path, verbose=1, save_weights_only=True)\n",
        "        \n",
        "        results.append(\n",
        "            models[i].vae.fit(\n",
        "                x, x,\n",
        "                batch_size = batch_size,\n",
        "                epochs = epochs,\n",
        "                validation_split=0.3,\n",
        "                validation_data=(x_test, x_test),\n",
        "                callbacks=[\n",
        "                   cp_callback\n",
        "                ]\n",
        "            )\n",
        "        )\n",
        "\n",
        "    return results"
      ],
      "execution_count": null,
      "outputs": []
    },
    {
      "cell_type": "markdown",
      "metadata": {
        "id": "DCL_xHepco4z"
      },
      "source": [
        "## Train and Test ensemble models"
      ]
    },
    {
      "cell_type": "code",
      "metadata": {
        "id": "Y7y5G0UscdP1",
        "colab": {
          "base_uri": "https://localhost:8080/"
        },
        "outputId": "eda26581-8c36-4999-b537-a407253cc63c"
      },
      "source": [
        "x_train, y_train, x_test, y_test = load_mnist()\n",
        "x_train_normalized, x_test_normalized = prep_pixels(x_train, x_test)"
      ],
      "execution_count": null,
      "outputs": [
        {
          "output_type": "stream",
          "name": "stdout",
          "text": [
            "Downloading data from https://storage.googleapis.com/tensorflow/tf-keras-datasets/mnist.npz\n",
            "11493376/11490434 [==============================] - 0s 0us/step\n",
            "11501568/11490434 [==============================] - 0s 0us/step\n",
            "Train: X=(60000, 28, 28), y=(60000,)\n",
            "Test: X=(10000, 28, 28), y=(10000,)\n"
          ]
        }
      ]
    },
    {
      "cell_type": "code",
      "metadata": {
        "id": "4zUwMiD_F5qQ"
      },
      "source": [
        "# save original dataset\n",
        "x_train_normalized = x_train_normalized[:5000]\n",
        "x_test_normalized = x_test_normalized[:5000]\n",
        "y_train = y_train[:5000]\n",
        "y_test = y_test[:5000]"
      ],
      "execution_count": null,
      "outputs": []
    },
    {
      "cell_type": "code",
      "metadata": {
        "id": "u9pQifwnH-yl"
      },
      "source": [
        "mnist_df_train = pd.DataFrame(data=np.concatenate((x_train_normalized, np.argmax(y_train, axis=1).reshape(-1, 1)), axis=1))\n",
        "mnist_df_test = pd.DataFrame(data=np.concatenate((x_test_normalized, np.argmax(y_test, axis=1).reshape(-1, 1)), axis=1))\n",
        "\n",
        "mnist_df_train.to_csv('/content/gdrive/My Drive/Fairness_Project/Original/mnist_5000_train.csv', index=False)\n",
        "mnist_df_test.to_csv('/content/gdrive/My Drive/Fairness_Project/Original/mnist_5000_test.csv', index=False)"
      ],
      "execution_count": null,
      "outputs": []
    },
    {
      "cell_type": "code",
      "metadata": {
        "id": "Z-tMtmAZH_j_"
      },
      "source": [
        "mnist_df_train = pd.DataFrame(data=np.concatenate((np.concatenate((x_train_normalized, np.argmax(y_train, axis=1).reshape(-1, 1)), axis=1), np.concatenate((x_test_normalized, np.argmax(y_test, axis=1).reshape(-1, 1)), axis=1))))\n",
        "\n",
        "mnist_df_train.to_csv('/content/gdrive/My Drive/Fairness_Project/Original/mnist_10000.csv', index=False)"
      ],
      "execution_count": null,
      "outputs": []
    },
    {
      "cell_type": "markdown",
      "metadata": {
        "id": "KSN5uFNlmE_w"
      },
      "source": [
        "## results on other models"
      ]
    },
    {
      "cell_type": "code",
      "metadata": {
        "id": "FicrloZjmI6N"
      },
      "source": [
        "# dp-wgan\n",
        "df = pd.read_csv('/content/gdrive/My Drive/Fairness_Project/Synthesized/mnist_5000_dpwgan.csv')"
      ],
      "execution_count": null,
      "outputs": []
    },
    {
      "cell_type": "code",
      "metadata": {
        "id": "NLkNnKhOmZ3p"
      },
      "source": [
        "dpwgan_numpy = df.to_numpy()\n",
        "dpwgan_y = dpwgan_numpy[:, 784]\n",
        "dpwgan_x = dpwgan_numpy[:, :784]"
      ],
      "execution_count": null,
      "outputs": []
    },
    {
      "cell_type": "code",
      "metadata": {
        "colab": {
          "base_uri": "https://localhost:8080/",
          "height": 283
        },
        "id": "WQvGXNz_nL74",
        "outputId": "fff57971-8319-49dd-e4e6-472e222af5c5"
      },
      "source": [
        "plt.imshow(dpwgan_x[0].reshape((28, 28)))"
      ],
      "execution_count": null,
      "outputs": [
        {
          "output_type": "execute_result",
          "data": {
            "text/plain": [
              "<matplotlib.image.AxesImage at 0x7f243e146150>"
            ]
          },
          "metadata": {},
          "execution_count": 11
        },
        {
          "output_type": "display_data",
          "data": {
            "image/png": "[encoded data removed]",
            "text/plain": [
              "<Figure size 432x288 with 1 Axes>"
            ]
          },
          "metadata": {
            "needs_background": "light"
          }
        }
      ]
    },
    {
      "cell_type": "code",
      "metadata": {
        "colab": {
          "base_uri": "https://localhost:8080/",
          "height": 283
        },
        "id": "dmC9DzYSusWN",
        "outputId": "ef4bb80e-d1da-44ad-b9d0-672a795f4eed"
      },
      "source": [
        "plt.imshow(dpwgan_x[1].reshape((28, 28)))"
      ],
      "execution_count": null,
      "outputs": [
        {
          "output_type": "execute_result",
          "data": {
            "text/plain": [
              "<matplotlib.image.AxesImage at 0x7f243dc2c610>"
            ]
          },
          "metadata": {},
          "execution_count": 12
        },
        {
          "output_type": "display_data",
          "data": {
            "image/png": "[encoded data removed]",
            "text/plain": [
              "<Figure size 432x288 with 1 Axes>"
            ]
          },
          "metadata": {
            "needs_background": "light"
          }
        }
      ]
    },
    {
      "cell_type": "code",
      "metadata": {
        "id": "AZ7ONHE2u8Uq"
      },
      "source": [
        "# pate-gan\n",
        "df = pd.read_csv('/content/gdrive/My Drive/Fairness_Project/Synthesized/mnist_5000_pategan.csv')"
      ],
      "execution_count": null,
      "outputs": []
    },
    {
      "cell_type": "code",
      "metadata": {
        "id": "9zHt-4_CCmRL"
      },
      "source": [
        "pategan_numpy = df.to_numpy()\n",
        "pategan_y = pategan_numpy[:, 784]\n",
        "pategan_x = pategan_numpy[:, :784]"
      ],
      "execution_count": null,
      "outputs": []
    },
    {
      "cell_type": "code",
      "metadata": {
        "colab": {
          "base_uri": "https://localhost:8080/",
          "height": 283
        },
        "id": "aH3Y9xf4CoK7",
        "outputId": "32b0ba1c-6e99-4a25-8e6f-ecdd86cf535e"
      },
      "source": [
        "plt.imshow(pategan_x[0].reshape((28, 28)))"
      ],
      "execution_count": null,
      "outputs": [
        {
          "output_type": "execute_result",
          "data": {
            "text/plain": [
              "<matplotlib.image.AxesImage at 0x7f243ce76490>"
            ]
          },
          "metadata": {},
          "execution_count": 32
        },
        {
          "output_type": "display_data",
          "data": {
            "image/png": "[encoded data removed]",
            "text/plain": [
              "<Figure size 432x288 with 1 Axes>"
            ]
          },
          "metadata": {
            "needs_background": "light"
          }
        }
      ]
    },
    {
      "cell_type": "code",
      "metadata": {
        "id": "Zda8a6DWDC6a"
      },
      "source": [
        "pate = np.loadtxt('/content/gdrive/My Drive/Fairness_Project/Synthesized/synthesize.txt')"
      ],
      "execution_count": null,
      "outputs": []
    },
    {
      "cell_type": "code",
      "metadata": {
        "id": "HTmx6cpBX8l9"
      },
      "source": [
        "pate_x = pate[:, :784]"
      ],
      "execution_count": null,
      "outputs": []
    },
    {
      "cell_type": "code",
      "metadata": {
        "colab": {
          "base_uri": "https://localhost:8080/",
          "height": 283
        },
        "id": "WQT9m8l0YLWv",
        "outputId": "5066e00f-e16a-47a4-a733-465e174d30ae"
      },
      "source": [
        "plt.imshow(pate_x[0].reshape((28, 28)))"
      ],
      "execution_count": null,
      "outputs": [
        {
          "output_type": "execute_result",
          "data": {
            "text/plain": [
              "<matplotlib.image.AxesImage at 0x7f2d4eedbdd0>"
            ]
          },
          "metadata": {},
          "execution_count": 88
        },
        {
          "output_type": "display_data",
          "data": {
            "image/png": "[encoded data removed]",
            "text/plain": [
              "<Figure size 432x288 with 1 Axes>"
            ]
          },
          "metadata": {
            "needs_background": "light"
          }
        }
      ]
    },
    {
      "cell_type": "markdown",
      "metadata": {
        "id": "9b6dxl53mLGV"
      },
      "source": [
        "## My model\n"
      ]
    },
    {
      "cell_type": "markdown",
      "metadata": {
        "id": "bKN8Amce0-rD"
      },
      "source": [
        "train model"
      ]
    },
    {
      "cell_type": "code",
      "metadata": {
        "id": "eOkv2DcB1A1N"
      },
      "source": [
        "models = create_ensemble(VAE, 10, {'intermediate_dim':64, 'latent_dim':2, 'input_size_h':28, 'input_size_w':28, 'original_dim': 28 * 28})"
      ],
      "execution_count": null,
      "outputs": []
    },
    {
      "cell_type": "code",
      "metadata": {
        "id": "KRm3YYVZzLou"
      },
      "source": [
        "results = train_ensemble(\n",
        "    models,\n",
        "    'MNIST_5000_Model_10',\n",
        "    x_train_normalized,\n",
        "    y_train,\n",
        "    x_test_normalized,\n",
        "    y_test,\n",
        "    epochs = 100,\n",
        "    batch_size = 62\n",
        ")"
      ],
      "execution_count": null,
      "outputs": []
    },
    {
      "cell_type": "code",
      "metadata": {
        "id": "vzifdnU76gTT"
      },
      "source": [
        "def load_model(model_class, model_name, no_ensembles, model_params):\n",
        "    models = []\n",
        "    for i in range(no_ensembles):\n",
        "        model = model_class()\n",
        "        model.build_model(\n",
        "            intermediate_dim=model_params['intermediate_dim'],\n",
        "            latent_dim=model_params['latent_dim'],\n",
        "            original_dim=model_params['original_dim'])\n",
        "        models.append(model)\n",
        "    \n",
        "    base_path = \"/content/gdrive/My Drive/Fairness_Project/\"\n",
        "\n",
        "    for i in range(no_ensembles):\n",
        "        checkpoint_path = base_path + model_name + str(i) + \"_cp.ckpt\"\n",
        "        checkpoint_dir = os.path.dirname(checkpoint_path)\n",
        "        models[i].vae.load_weights(checkpoint_path)\n",
        "\n",
        "    return models"
      ],
      "execution_count": null,
      "outputs": []
    },
    {
      "cell_type": "code",
      "metadata": {
        "id": "N0fywcmZ0pXz"
      },
      "source": [
        "MNIST_ensemble = load_model(VAE, 'MNIST_5000_Model_10', 10, {'intermediate_dim':64, 'latent_dim':2, 'input_size_h':28, 'input_size_w':28, 'original_dim': 28 * 28})"
      ],
      "execution_count": null,
      "outputs": []
    },
    {
      "cell_type": "markdown",
      "metadata": {
        "id": "uNU2uxhK06-S"
      },
      "source": [
        "create samples"
      ]
    },
    {
      "cell_type": "code",
      "metadata": {
        "id": "bIen0DIB016I"
      },
      "source": [
        "def sampling(models, latent_size, mean=0.0, std=1.0):\n",
        "    samples = []\n",
        "    for i in range(len(models)):\n",
        "        model = models[i]\n",
        "        s = K.random_normal(shape=(1, latent_size), mean=mean, stddev=std)\n",
        "        samples.append(model.decoder.predict(s))\n",
        "    \n",
        "    return samples"
      ],
      "execution_count": null,
      "outputs": []
    },
    {
      "cell_type": "markdown",
      "metadata": {
        "id": "D7vn2byEbAoy"
      },
      "source": [
        "### Sample Selection"
      ]
    },
    {
      "cell_type": "code",
      "metadata": {
        "id": "Sdn6KbPK15AP"
      },
      "source": [
        "def sample_selection(dataset, samples, noise):\n",
        "    samples_nn = []\n",
        "    for i in range(len(samples)):\n",
        "        # find closest individual\n",
        "        nn = float('inf')\n",
        "        for j in range(len(dataset)):\n",
        "            distance = np.linalg.norm(samples[i] - dataset[j])\n",
        "            if distance < nn:\n",
        "                nn = distance\n",
        "        # print(nn)\n",
        "        samples_nn.append(nn + np.random.laplace(0, noise, 1))\n",
        "    # print(\"----\")\n",
        "    # print(samples_nn)\n",
        "    return samples[np.argmax(samples_nn)]"
      ],
      "execution_count": null,
      "outputs": []
    },
    {
      "cell_type": "code",
      "metadata": {
        "id": "g0ogA_DOdBfw"
      },
      "source": [
        "selected_sample = sample_selection(x_train_normalized, sampling(MNIST_ensemble, 2), 1)"
      ],
      "execution_count": null,
      "outputs": []
    },
    {
      "cell_type": "code",
      "metadata": {
        "colab": {
          "base_uri": "https://localhost:8080/",
          "height": 283
        },
        "id": "uJT0cWnhd1gK",
        "outputId": "74b2f703-4a41-4ce9-add7-8bbc42750ece"
      },
      "source": [
        "plt.imshow(selected_sample.reshape((28, 28)))"
      ],
      "execution_count": null,
      "outputs": [
        {
          "output_type": "execute_result",
          "data": {
            "text/plain": [
              "<matplotlib.image.AxesImage at 0x7f2d357c16d0>"
            ]
          },
          "metadata": {},
          "execution_count": 69
        },
        {
          "output_type": "display_data",
          "data": {
            "image/png": "[encoded data removed]",
            "text/plain": [
              "<Figure size 432x288 with 1 Axes>"
            ]
          },
          "metadata": {
            "needs_background": "light"
          }
        }
      ]
    },
    {
      "cell_type": "markdown",
      "metadata": {
        "id": "FV8ys3MP0r1v"
      },
      "source": [
        "show 16 of created samples\n"
      ]
    },
    {
      "cell_type": "code",
      "metadata": {
        "id": "f1Lr1IgR1SnW"
      },
      "source": [
        "f, axarr = plt.subplots(4,4)\n",
        "for i in range(4):\n",
        "    for j in range(4):\n",
        "        selected_sample = sample_selection(x_train, sampling(MNIST_ensemble, 2), 1)\n",
        "        axarr[i,j].imshow(selected_sample.reshape((28, 28)))"
      ],
      "execution_count": null,
      "outputs": []
    },
    {
      "cell_type": "code",
      "metadata": {
        "colab": {
          "base_uri": "https://localhost:8080/"
        },
        "id": "Yoba26ERylDe",
        "outputId": "ec86f851-149e-48dc-ccc7-931e420174c7"
      },
      "source": [
        "# synthesized = []\n",
        "for i in range(len(x_train) - len(synthesized)):\n",
        "    selected_sample = sample_selection(x_train, sampling(MNIST_ensemble, 2), 1)\n",
        "    synthesized.append(selected_sample[0])\n",
        "    if i % 1000 == 0:\n",
        "        print(i)\n",
        "    \n",
        "    if(len(synthesized)) == 2000:\n",
        "        break\n",
        "\n",
        "synthesized = np.array(synthesized)\n",
        "\n",
        "np.savetxt(\"/content/gdrive/My Drive/Fairness_Project/Synthesized/mnist_5000_mymodel_10.txt\", synthesized)"
      ],
      "execution_count": null,
      "outputs": [
        {
          "output_type": "stream",
          "name": "stdout",
          "text": [
            "0\n"
          ]
        }
      ]
    },
    {
      "cell_type": "markdown",
      "metadata": {
        "id": "dsVRJHbe32Tr"
      },
      "source": [
        "# Train on Adult Census"
      ]
    },
    {
      "cell_type": "markdown",
      "metadata": {
        "id": "AWK4ni0egLKy"
      },
      "source": [
        "## Preprocess data"
      ]
    },
    {
      "cell_type": "code",
      "metadata": {
        "id": "zPeDWSigk56a"
      },
      "source": [
        "def load_census():\n",
        "    # This is done based on the dataset ID.\n",
        "    census = openml.datasets.get_dataset(1119)\n",
        "\n",
        "    # Print a summary\n",
        "    print(\n",
        "        f\"This is dataset '{census.name}', the target feature is \"\n",
        "        f\"'{census.default_target_attribute}'\"\n",
        "    )\n",
        "    print(f\"URL: {census.url}\")\n",
        "    print(census.description[:500])\n",
        "\n",
        "    census_dataframe, census_target, _, census_attribute_names = census.get_data(\n",
        "        target=census.default_target_attribute, dataset_format=\"dataframe\"\n",
        "    )\n",
        "\n",
        "    # pre-process\n",
        "    census_dataframe = census_dataframe.rename(columns={\"fnlwgt:\": \"fnlwgt\", \"education:\": \"education\", \"education-num:\" : \"education-num\",\n",
        "                    \"marital-status:\" : \"marital-status\", \"occupation:\" : \"occupation\", \"relationship:\" : \"relationship\",\n",
        "                    \"race:\" : \"race\", \"sex:\" : \"sex\", \"capital-gain:\" : \"capital-gain\", \"capital-loss:\" : \"capital-loss\",\n",
        "                    \"hours-per-week:\" : \"hours-per-week\", \"native-country:\" : \"native-country\"\n",
        "                    })\n",
        "\n",
        "    \n",
        "    census_whole = pd.concat([census_dataframe, census_target], axis=1)\n",
        "\n",
        "    census_whole.drop([\"fnlwgt\", \"education-num\", \"relationship\"], axis=1, inplace=True)\n",
        "    cleaned_census = pd.get_dummies(data=census_whole, columns=['workclass', 'education', 'marital-status', 'occupation', 'race', 'sex', 'native-country'])\n",
        "\n",
        "    cleaned_census = cleaned_census.replace([\"<=50K\", '>50K'], [0, 1])\n",
        "\n",
        "    temp_cols = cleaned_census.columns.tolist()\n",
        "    index = cleaned_census.columns.get_loc(\"class\")\n",
        "    new_cols = temp_cols[0:index] + temp_cols[index+1:] + temp_cols[index:index+1]\n",
        "    \n",
        "    return cleaned_census[new_cols]"
      ],
      "execution_count": null,
      "outputs": []
    },
    {
      "cell_type": "code",
      "metadata": {
        "colab": {
          "base_uri": "https://localhost:8080/"
        },
        "id": "SfN3bSjj2WUy",
        "outputId": "d8b7df56-5259-4d6d-d6c5-86c38d9bef74"
      },
      "source": [
        "census = load_census()"
      ],
      "execution_count": null,
      "outputs": [
        {
          "output_type": "stream",
          "name": "stdout",
          "text": [
            "This is dataset 'adult-census', the target feature is 'class'\n",
            "URL: https://www.openml.org/data/v1/download/54002/adult-census.arff\n",
            "**Author**: Ronny Kohavi and Barry Becker  \n",
            "**Source**: [MLRR](http://axon.cs.byu.edu:5000/)    \n",
            "**Please cite**: Ron Kohavi, \"Scaling Up the Accuracy of Naive-Bayes Classifiers: a Decision-Tree Hybrid\", Proceedings of the Second International Conference on Knowledge Discovery and Data Mining, 1996  \n",
            "\n",
            "Dataset from the MLRR repository: http://axon.cs.byu.edu:5000/\n",
            "\n",
            "**Note: this dataset is identical to the version stored in UCI, but only includes the training data, not the test data. See [adult (2\n"
          ]
        }
      ]
    },
    {
      "cell_type": "markdown",
      "metadata": {
        "id": "yNRxifOz4joD"
      },
      "source": [
        "## Train and Test Ensemble"
      ]
    },
    {
      "cell_type": "code",
      "metadata": {
        "id": "dEOMseQ4fvFF"
      },
      "source": [
        "# save only 5000 of file to test and train on\n",
        "census_df_train = census[:5000]\n",
        "census_df_test = census[5000:10000]\n",
        "census_df_train.to_csv('/content/gdrive/My Drive/Fairness_Project/Original/census_5000_train.csv', index=False)\n",
        "census_df_test.to_csv('/content/gdrive/My Drive/Fairness_Project/Original/census_5000_test.csv', index=False)"
      ],
      "execution_count": null,
      "outputs": []
    },
    {
      "cell_type": "code",
      "metadata": {
        "id": "5xYcKzgv2axl"
      },
      "source": [
        "census_numpy = census[:10000].to_numpy()\n",
        "max_census = np.max(census_numpy, axis=0)\n",
        "max_census[max_census==0] = 1\n",
        "normalized_census = census_numpy / max_census"
      ],
      "execution_count": null,
      "outputs": []
    },
    {
      "cell_type": "code",
      "metadata": {
        "id": "uo2Il9bwrJAU"
      },
      "source": [
        "# save only 5000 of file to test and train on\n",
        "census_df_train = census[:5000] / max_census\n",
        "census_df_test = census[5000:10000] / max_census\n",
        "census_df_train.to_csv('/content/gdrive/My Drive/Fairness_Project/Original/census_5000_train_normalized.csv', index=False)\n",
        "census_df_test.to_csv('/content/gdrive/My Drive/Fairness_Project/Original/census_5000_test_normalized.csv', index=False)"
      ],
      "execution_count": null,
      "outputs": []
    },
    {
      "cell_type": "code",
      "metadata": {
        "id": "TqOYE0Gx4vyZ"
      },
      "source": [
        "x_train = normalized_census[:5000]\n",
        "x_test = normalized_census[5000:10000]"
      ],
      "execution_count": null,
      "outputs": []
    },
    {
      "cell_type": "code",
      "metadata": {
        "id": "kytKa9xU5GVe"
      },
      "source": [
        "models = create_ensemble(VAE, 10, {'intermediate_dim':64, 'latent_dim':4, 'original_dim': x_train.shape[1]})"
      ],
      "execution_count": null,
      "outputs": []
    },
    {
      "cell_type": "code",
      "metadata": {
        "id": "UhZt_pDx5LC2"
      },
      "source": [
        "results = train_ensemble(\n",
        "    models,\n",
        "    'CENSUS_5000_Model_10',\n",
        "    x_train,\n",
        "    x_train[:, 4],\n",
        "    x_test,\n",
        "    x_test[:, 4],\n",
        "    epochs = 100,\n",
        "    batch_size = 62\n",
        ")"
      ],
      "execution_count": null,
      "outputs": []
    },
    {
      "cell_type": "code",
      "metadata": {
        "id": "sIpS0_k89Acv"
      },
      "source": [
        "CENSUS_ensemble = load_model(VAE, 'CENSUS_5000_Model_10', 10, {'intermediate_dim':64, 'latent_dim':4, 'original_dim': x_train.shape[1]})"
      ],
      "execution_count": null,
      "outputs": []
    },
    {
      "cell_type": "code",
      "metadata": {
        "colab": {
          "base_uri": "https://localhost:8080/"
        },
        "id": "xfELm0Z8qyGV",
        "outputId": "178ae389-cae1-456c-a488-35479578d594"
      },
      "source": [
        "CENSUS_ensemble[0].vae.summary()"
      ],
      "execution_count": null,
      "outputs": [
        {
          "output_type": "stream",
          "name": "stdout",
          "text": [
            "Model: \"vae_mlp\"\n",
            "__________________________________________________________________________________________________\n",
            " Layer (type)                   Output Shape         Param #     Connected to                     \n",
            "==================================================================================================\n",
            " input_1 (InputLayer)           [(None, 98)]         0           []                               \n",
            "                                                                                                  \n",
            " encoder (Functional)           [(None, 4),          6856        ['input_1[0][0]']                \n",
            "                                 (None, 4),                                                       \n",
            "                                 (None, 4)]                                                       \n",
            "                                                                                                  \n",
            " decoder (Functional)           (None, 98)           6690        ['encoder[0][2]']                \n",
            "                                                                                                  \n",
            " dense (Dense)                  (None, 64)           6336        ['input_1[0][0]']                \n",
            "                                                                                                  \n",
            " dense_2 (Dense)                (None, 4)            260         ['dense[0][0]']                  \n",
            "                                                                                                  \n",
            " dense_1 (Dense)                (None, 4)            260         ['dense[0][0]']                  \n",
            "                                                                                                  \n",
            " tf.__operators__.add (TFOpLamb  (None, 4)           0           ['dense_2[0][0]']                \n",
            " da)                                                                                              \n",
            "                                                                                                  \n",
            " tf.math.square (TFOpLambda)    (None, 4)            0           ['dense_1[0][0]']                \n",
            "                                                                                                  \n",
            " tf.cast (TFOpLambda)           (None, 98)           0           ['input_1[0][0]']                \n",
            "                                                                                                  \n",
            " tf.convert_to_tensor (TFOpLamb  (None, 98)          0           ['decoder[0][0]']                \n",
            " da)                                                                                              \n",
            "                                                                                                  \n",
            " tf.math.subtract (TFOpLambda)  (None, 4)            0           ['tf.__operators__.add[0][0]',   \n",
            "                                                                  'tf.math.square[0][0]']         \n",
            "                                                                                                  \n",
            " tf.math.exp (TFOpLambda)       (None, 4)            0           ['dense_2[0][0]']                \n",
            "                                                                                                  \n",
            " tf.keras.backend.binary_crosse  (None, 98)          0           ['tf.cast[0][0]',                \n",
            " ntropy (TFOpLambda)                                              'tf.convert_to_tensor[0][0]']   \n",
            "                                                                                                  \n",
            " tf.math.subtract_1 (TFOpLambda  (None, 4)           0           ['tf.math.subtract[0][0]',       \n",
            " )                                                                'tf.math.exp[0][0]']            \n",
            "                                                                                                  \n",
            " tf.math.reduce_mean (TFOpLambd  (None,)             0           ['tf.keras.backend.binary_crossen\n",
            " a)                                                              tropy[0][0]']                    \n",
            "                                                                                                  \n",
            " tf.math.reduce_sum (TFOpLambda  (None,)             0           ['tf.math.subtract_1[0][0]']     \n",
            " )                                                                                                \n",
            "                                                                                                  \n",
            " tf.math.multiply (TFOpLambda)  (None,)              0           ['tf.math.reduce_mean[0][0]']    \n",
            "                                                                                                  \n",
            " tf.math.multiply_1 (TFOpLambda  (None,)             0           ['tf.math.reduce_sum[0][0]']     \n",
            " )                                                                                                \n",
            "                                                                                                  \n",
            " tf.__operators__.add_1 (TFOpLa  (None,)             0           ['tf.math.multiply[0][0]',       \n",
            " mbda)                                                            'tf.math.multiply_1[0][0]']     \n",
            "                                                                                                  \n",
            " tf.math.reduce_mean_1 (TFOpLam  ()                  0           ['tf.__operators__.add_1[0][0]'] \n",
            " bda)                                                                                             \n",
            "                                                                                                  \n",
            " add_loss (AddLoss)             ()                   0           ['tf.math.reduce_mean_1[0][0]']  \n",
            "                                                                                                  \n",
            "==================================================================================================\n",
            "Total params: 13,546\n",
            "Trainable params: 13,546\n",
            "Non-trainable params: 0\n",
            "__________________________________________________________________________________________________\n"
          ]
        }
      ]
    },
    {
      "cell_type": "code",
      "metadata": {
        "id": "PihJoipCGhSm"
      },
      "source": [
        "selected_sample = sample_selection(x_train, sampling(CENSUS_ensemble, 4), 1)"
      ],
      "execution_count": null,
      "outputs": []
    },
    {
      "cell_type": "code",
      "metadata": {
        "id": "qZFor0-lHU2s"
      },
      "source": [
        "def sample_to_census(sample):\n",
        "    unnormalize = sample * max_census   \n",
        "     \n",
        "    df = pd.DataFrame(data=unnormalize, columns=census.columns)\n",
        "    df[\"age\"] = df[\"age\"].astype(int)\n",
        "\n",
        "    df[\"capital-gain\"] = df[\"capital-gain\"].astype(int).astype(float)\n",
        "    df[\"capital-loss\"] = df[\"capital-loss\"].astype(int).astype(float)\n",
        "    df[\"hours-per-week\"] = df[\"hours-per-week\"].astype(int)\n",
        "    df[\"class\"] = round(df[\"class\"]).astype(int)\n",
        "    return df"
      ],
      "execution_count": null,
      "outputs": []
    },
    {
      "cell_type": "code",
      "metadata": {
        "id": "PP8_99jfH8PG"
      },
      "source": [
        "def undummify(df, prefix_sep=\"_\"):\n",
        "    cols2collapse = {\n",
        "        item.split(prefix_sep)[0]: (prefix_sep in item) for item in df.columns\n",
        "    }\n",
        "    series_list = []\n",
        "    for col, needs_to_collapse in cols2collapse.items():\n",
        "        if needs_to_collapse:\n",
        "            undummified = (\n",
        "                df.filter(like=col)\n",
        "                .idxmax(axis=1)\n",
        "                .apply(lambda x: x.split(prefix_sep, maxsplit=1)[1])\n",
        "                .rename(col)\n",
        "            )\n",
        "            series_list.append(undummified)\n",
        "        else:\n",
        "            series_list.append(df[col])\n",
        "    undummified_df = pd.concat(series_list, axis=1)\n",
        "    return undummified_df"
      ],
      "execution_count": null,
      "outputs": []
    },
    {
      "cell_type": "code",
      "metadata": {
        "colab": {
          "base_uri": "https://localhost:8080/",
          "height": 164
        },
        "id": "ZPdcKLCkJC3c",
        "outputId": "c37c2a8f-6daa-4850-d461-99f7c9f240ff"
      },
      "source": [
        "sample_to_census(selected_sample)"
      ],
      "execution_count": null,
      "outputs": [
        {
          "output_type": "execute_result",
          "data": {
            "text/html": [
              "<div>\n",
              "<style scoped>\n",
              "    .dataframe tbody tr th:only-of-type {\n",
              "        vertical-align: middle;\n",
              "    }\n",
              "\n",
              "    .dataframe tbody tr th {\n",
              "        vertical-align: top;\n",
              "    }\n",
              "\n",
              "    .dataframe thead th {\n",
              "        text-align: right;\n",
              "    }\n",
              "</style>\n",
              "<table border=\"1\" class=\"dataframe\">\n",
              "  <thead>\n",
              "    <tr style=\"text-align: right;\">\n",
              "      <th></th>\n",
              "      <th>age</th>\n",
              "      <th>capital-gain</th>\n",
              "      <th>capital-loss</th>\n",
              "      <th>hours-per-week</th>\n",
              "      <th>class</th>\n",
              "      <th>workclass_Private</th>\n",
              "      <th>workclass_Self-emp-not-inc</th>\n",
              "      <th>workclass_Self-emp-inc</th>\n",
              "      <th>workclass_Federal-gov</th>\n",
              "      <th>workclass_Local-gov</th>\n",
              "      <th>workclass_State-gov</th>\n",
              "      <th>workclass_Without-pay</th>\n",
              "      <th>workclass_Never-worked</th>\n",
              "      <th>education_Bachelors</th>\n",
              "      <th>education_Some-college</th>\n",
              "      <th>education_11th</th>\n",
              "      <th>education_HS-grad</th>\n",
              "      <th>education_Prof-school</th>\n",
              "      <th>education_Assoc-acdm</th>\n",
              "      <th>education_Assoc-voc</th>\n",
              "      <th>education_9th</th>\n",
              "      <th>education_7th-8th</th>\n",
              "      <th>education_12th</th>\n",
              "      <th>education_Masters</th>\n",
              "      <th>education_1st-4th</th>\n",
              "      <th>education_10th</th>\n",
              "      <th>education_Doctorate</th>\n",
              "      <th>education_5th-6th</th>\n",
              "      <th>education_Preschool</th>\n",
              "      <th>marital-status_Married-civ-spouse</th>\n",
              "      <th>marital-status_Divorced</th>\n",
              "      <th>marital-status_Never-married</th>\n",
              "      <th>marital-status_Separated</th>\n",
              "      <th>marital-status_Widowed</th>\n",
              "      <th>marital-status_Married-spouse-absent</th>\n",
              "      <th>marital-status_Married-AF-spouse</th>\n",
              "      <th>occupation_Tech-support</th>\n",
              "      <th>occupation_Craft-repair</th>\n",
              "      <th>occupation_Other-service</th>\n",
              "      <th>occupation_Sales</th>\n",
              "      <th>...</th>\n",
              "      <th>native-country_Cambodia</th>\n",
              "      <th>native-country_England</th>\n",
              "      <th>native-country_Puerto-Rico</th>\n",
              "      <th>native-country_Canada</th>\n",
              "      <th>native-country_Germany</th>\n",
              "      <th>native-country_Outlying-US(Guam-USVI-etc)</th>\n",
              "      <th>native-country_India</th>\n",
              "      <th>native-country_Japan</th>\n",
              "      <th>native-country_Greece</th>\n",
              "      <th>native-country_South</th>\n",
              "      <th>native-country_China</th>\n",
              "      <th>native-country_Cuba</th>\n",
              "      <th>native-country_Iran</th>\n",
              "      <th>native-country_Honduras</th>\n",
              "      <th>native-country_Philippines</th>\n",
              "      <th>native-country_Italy</th>\n",
              "      <th>native-country_Poland</th>\n",
              "      <th>native-country_Jamaica</th>\n",
              "      <th>native-country_Vietnam</th>\n",
              "      <th>native-country_Mexico</th>\n",
              "      <th>native-country_Portugal</th>\n",
              "      <th>native-country_Ireland</th>\n",
              "      <th>native-country_France</th>\n",
              "      <th>native-country_Dominican-Republic</th>\n",
              "      <th>native-country_Laos</th>\n",
              "      <th>native-country_Ecuador</th>\n",
              "      <th>native-country_Taiwan</th>\n",
              "      <th>native-country_Haiti</th>\n",
              "      <th>native-country_Columbia</th>\n",
              "      <th>native-country_Hungary</th>\n",
              "      <th>native-country_Guatemala</th>\n",
              "      <th>native-country_Nicaragua</th>\n",
              "      <th>native-country_Scotland</th>\n",
              "      <th>native-country_Thailand</th>\n",
              "      <th>native-country_Yugoslavia</th>\n",
              "      <th>native-country_El-Salvador</th>\n",
              "      <th>native-country_Trinadad&amp;Tobago</th>\n",
              "      <th>native-country_Peru</th>\n",
              "      <th>native-country_Hong</th>\n",
              "      <th>native-country_Holand-Netherlands</th>\n",
              "    </tr>\n",
              "  </thead>\n",
              "  <tbody>\n",
              "    <tr>\n",
              "      <th>0</th>\n",
              "      <td>37</td>\n",
              "      <td>10501.0</td>\n",
              "      <td>331.0</td>\n",
              "      <td>46</td>\n",
              "      <td>0.0</td>\n",
              "      <td>0.600153</td>\n",
              "      <td>0.190261</td>\n",
              "      <td>0.168265</td>\n",
              "      <td>0.169577</td>\n",
              "      <td>0.124364</td>\n",
              "      <td>0.218134</td>\n",
              "      <td>0.096066</td>\n",
              "      <td>0.107687</td>\n",
              "      <td>0.274989</td>\n",
              "      <td>0.32184</td>\n",
              "      <td>0.178654</td>\n",
              "      <td>0.397797</td>\n",
              "      <td>0.114067</td>\n",
              "      <td>0.170239</td>\n",
              "      <td>0.269295</td>\n",
              "      <td>0.151946</td>\n",
              "      <td>0.149344</td>\n",
              "      <td>0.093718</td>\n",
              "      <td>0.166579</td>\n",
              "      <td>0.094073</td>\n",
              "      <td>0.090458</td>\n",
              "      <td>0.122191</td>\n",
              "      <td>0.100699</td>\n",
              "      <td>0.102672</td>\n",
              "      <td>0.515592</td>\n",
              "      <td>0.249729</td>\n",
              "      <td>0.343292</td>\n",
              "      <td>0.147025</td>\n",
              "      <td>0.105381</td>\n",
              "      <td>0.104092</td>\n",
              "      <td>0.115914</td>\n",
              "      <td>0.228215</td>\n",
              "      <td>0.221922</td>\n",
              "      <td>0.205173</td>\n",
              "      <td>0.215532</td>\n",
              "      <td>...</td>\n",
              "      <td>0.084856</td>\n",
              "      <td>0.079111</td>\n",
              "      <td>0.145069</td>\n",
              "      <td>0.068911</td>\n",
              "      <td>0.077587</td>\n",
              "      <td>0.105015</td>\n",
              "      <td>0.151888</td>\n",
              "      <td>0.087391</td>\n",
              "      <td>0.087059</td>\n",
              "      <td>0.090353</td>\n",
              "      <td>0.069422</td>\n",
              "      <td>0.124339</td>\n",
              "      <td>0.097763</td>\n",
              "      <td>0.102121</td>\n",
              "      <td>0.106062</td>\n",
              "      <td>0.066116</td>\n",
              "      <td>0.099346</td>\n",
              "      <td>0.11328</td>\n",
              "      <td>0.092004</td>\n",
              "      <td>0.168462</td>\n",
              "      <td>0.07509</td>\n",
              "      <td>0.101666</td>\n",
              "      <td>0.138472</td>\n",
              "      <td>0.10079</td>\n",
              "      <td>0.097339</td>\n",
              "      <td>0.139657</td>\n",
              "      <td>0.085799</td>\n",
              "      <td>0.069655</td>\n",
              "      <td>0.075329</td>\n",
              "      <td>0.063216</td>\n",
              "      <td>0.095864</td>\n",
              "      <td>0.088566</td>\n",
              "      <td>0.088757</td>\n",
              "      <td>0.104768</td>\n",
              "      <td>0.097828</td>\n",
              "      <td>0.067427</td>\n",
              "      <td>0.091765</td>\n",
              "      <td>0.097157</td>\n",
              "      <td>0.076232</td>\n",
              "      <td>0.141437</td>\n",
              "    </tr>\n",
              "  </tbody>\n",
              "</table>\n",
              "<p>1 rows × 98 columns</p>\n",
              "</div>"
            ],
            "text/plain": [
              "   age  capital-gain  ...  native-country_Hong  native-country_Holand-Netherlands\n",
              "0   37       10501.0  ...             0.076232                           0.141437\n",
              "\n",
              "[1 rows x 98 columns]"
            ]
          },
          "metadata": {},
          "execution_count": 41
        }
      ]
    },
    {
      "cell_type": "code",
      "metadata": {
        "colab": {
          "base_uri": "https://localhost:8080/",
          "height": 80
        },
        "id": "9ZSCW41uIt6n",
        "outputId": "bb22c562-2802-427e-e388-1745c2f52352"
      },
      "source": [
        "undummify(sample_to_census(selected_sample))"
      ],
      "execution_count": null,
      "outputs": [
        {
          "output_type": "execute_result",
          "data": {
            "text/html": [
              "<div>\n",
              "<style scoped>\n",
              "    .dataframe tbody tr th:only-of-type {\n",
              "        vertical-align: middle;\n",
              "    }\n",
              "\n",
              "    .dataframe tbody tr th {\n",
              "        vertical-align: top;\n",
              "    }\n",
              "\n",
              "    .dataframe thead th {\n",
              "        text-align: right;\n",
              "    }\n",
              "</style>\n",
              "<table border=\"1\" class=\"dataframe\">\n",
              "  <thead>\n",
              "    <tr style=\"text-align: right;\">\n",
              "      <th></th>\n",
              "      <th>age</th>\n",
              "      <th>capital-gain</th>\n",
              "      <th>capital-loss</th>\n",
              "      <th>hours-per-week</th>\n",
              "      <th>class</th>\n",
              "      <th>workclass</th>\n",
              "      <th>education</th>\n",
              "      <th>marital-status</th>\n",
              "      <th>occupation</th>\n",
              "      <th>race</th>\n",
              "      <th>sex</th>\n",
              "      <th>native-country</th>\n",
              "    </tr>\n",
              "  </thead>\n",
              "  <tbody>\n",
              "    <tr>\n",
              "      <th>0</th>\n",
              "      <td>37</td>\n",
              "      <td>10501.0</td>\n",
              "      <td>331.0</td>\n",
              "      <td>46</td>\n",
              "      <td>0.0</td>\n",
              "      <td>Private</td>\n",
              "      <td>HS-grad</td>\n",
              "      <td>Married-civ-spouse</td>\n",
              "      <td>Exec-managerial</td>\n",
              "      <td>White</td>\n",
              "      <td>Male</td>\n",
              "      <td>United-States</td>\n",
              "    </tr>\n",
              "  </tbody>\n",
              "</table>\n",
              "</div>"
            ],
            "text/plain": [
              "   age  capital-gain  capital-loss  ...   race   sex native-country\n",
              "0   37       10501.0         331.0  ...  White  Male  United-States\n",
              "\n",
              "[1 rows x 12 columns]"
            ]
          },
          "metadata": {},
          "execution_count": 42
        }
      ]
    },
    {
      "cell_type": "markdown",
      "metadata": {
        "id": "3o9rDcnmiJnM"
      },
      "source": [
        "## create and save a new synthesized dataset"
      ]
    },
    {
      "cell_type": "code",
      "metadata": {
        "id": "85rcN81kI3EG"
      },
      "source": [
        "synthesized = []\n",
        "for i in range(len(x_train)):\n",
        "    selected_sample = sample_selection(x_train, sampling(CENSUS_ensemble, 4), 1)\n",
        "    synthesized.append(selected_sample[0])\n",
        "\n",
        "synthesized = np.array(synthesized)\n",
        "\n",
        "np.savetxt(\"/content/gdrive/My Drive/Fairness_Project/Synthesized/census_5000_mymodel_10.txt\", synthesized)"
      ],
      "execution_count": null,
      "outputs": []
    },
    {
      "cell_type": "markdown",
      "metadata": {
        "id": "V7OT4azrwa9F"
      },
      "source": [
        "# Calculating the statistical similarities"
      ]
    },
    {
      "cell_type": "markdown",
      "metadata": {
        "id": "dfLayfu3xQqZ"
      },
      "source": [
        "## Census"
      ]
    },
    {
      "cell_type": "markdown",
      "metadata": {
        "id": "J1fbeGBTxTnE"
      },
      "source": [
        "### Covariance matrix"
      ]
    },
    {
      "cell_type": "code",
      "metadata": {
        "colab": {
          "base_uri": "https://localhost:8080/",
          "height": 355
        },
        "id": "fqdnRBabuxT1",
        "outputId": "d3210c22-2e07-430c-8d7d-0de91e20c06e"
      },
      "source": [
        "# covariance of original dataset\n",
        "origin_df = undummify(sample_to_census(x_train))\n",
        "origin_cov = origin_df.corr() \n",
        "sns.heatmap(origin_cov, \n",
        "        xticklabels=origin_cov.columns,\n",
        "        yticklabels=origin_cov.columns)"
      ],
      "execution_count": null,
      "outputs": [
        {
          "output_type": "execute_result",
          "data": {
            "text/plain": [
              "<matplotlib.axes._subplots.AxesSubplot at 0x7fa81adb4390>"
            ]
          },
          "metadata": {},
          "execution_count": 10
        },
        {
          "output_type": "display_data",
          "data": {
            "image/png": "[encoded data removed]",
            "text/plain": [
              "<Figure size 432x288 with 2 Axes>"
            ]
          },
          "metadata": {
            "needs_background": "light"
          }
        }
      ]
    },
    {
      "cell_type": "code",
      "metadata": {
        "colab": {
          "base_uri": "https://localhost:8080/",
          "height": 207
        },
        "id": "yB-frA8fu5Ic",
        "outputId": "00c2b94a-0c8d-4dda-9491-8c05de434dee"
      },
      "source": [
        "origin_cov"
      ],
      "execution_count": null,
      "outputs": [
        {
          "output_type": "execute_result",
          "data": {
            "text/html": [
              "<div>\n",
              "<style scoped>\n",
              "    .dataframe tbody tr th:only-of-type {\n",
              "        vertical-align: middle;\n",
              "    }\n",
              "\n",
              "    .dataframe tbody tr th {\n",
              "        vertical-align: top;\n",
              "    }\n",
              "\n",
              "    .dataframe thead th {\n",
              "        text-align: right;\n",
              "    }\n",
              "</style>\n",
              "<table border=\"1\" class=\"dataframe\">\n",
              "  <thead>\n",
              "    <tr style=\"text-align: right;\">\n",
              "      <th></th>\n",
              "      <th>age</th>\n",
              "      <th>capital-gain</th>\n",
              "      <th>capital-loss</th>\n",
              "      <th>hours-per-week</th>\n",
              "      <th>class</th>\n",
              "    </tr>\n",
              "  </thead>\n",
              "  <tbody>\n",
              "    <tr>\n",
              "      <th>age</th>\n",
              "      <td>1.000000</td>\n",
              "      <td>0.062991</td>\n",
              "      <td>0.056268</td>\n",
              "      <td>0.039622</td>\n",
              "      <td>0.228991</td>\n",
              "    </tr>\n",
              "    <tr>\n",
              "      <th>capital-gain</th>\n",
              "      <td>0.062991</td>\n",
              "      <td>1.000000</td>\n",
              "      <td>-0.033438</td>\n",
              "      <td>0.071915</td>\n",
              "      <td>0.218062</td>\n",
              "    </tr>\n",
              "    <tr>\n",
              "      <th>capital-loss</th>\n",
              "      <td>0.056268</td>\n",
              "      <td>-0.033438</td>\n",
              "      <td>1.000000</td>\n",
              "      <td>0.079381</td>\n",
              "      <td>0.159685</td>\n",
              "    </tr>\n",
              "    <tr>\n",
              "      <th>hours-per-week</th>\n",
              "      <td>0.039622</td>\n",
              "      <td>0.071915</td>\n",
              "      <td>0.079381</td>\n",
              "      <td>1.000000</td>\n",
              "      <td>0.241109</td>\n",
              "    </tr>\n",
              "    <tr>\n",
              "      <th>class</th>\n",
              "      <td>0.228991</td>\n",
              "      <td>0.218062</td>\n",
              "      <td>0.159685</td>\n",
              "      <td>0.241109</td>\n",
              "      <td>1.000000</td>\n",
              "    </tr>\n",
              "  </tbody>\n",
              "</table>\n",
              "</div>"
            ],
            "text/plain": [
              "                     age  capital-gain  capital-loss  hours-per-week     class\n",
              "age             1.000000      0.062991      0.056268        0.039622  0.228991\n",
              "capital-gain    0.062991      1.000000     -0.033438        0.071915  0.218062\n",
              "capital-loss    0.056268     -0.033438      1.000000        0.079381  0.159685\n",
              "hours-per-week  0.039622      0.071915      0.079381        1.000000  0.241109\n",
              "class           0.228991      0.218062      0.159685        0.241109  1.000000"
            ]
          },
          "metadata": {},
          "execution_count": 11
        }
      ]
    },
    {
      "cell_type": "code",
      "metadata": {
        "id": "OOyLlXacxH1-"
      },
      "source": [
        "# cov matrix of my model\n",
        "synthesized = np.loadtxt(\"/content/gdrive/My Drive/Fairness_Project/Synthesized/census_5000_mymodel_10.txt\")"
      ],
      "execution_count": null,
      "outputs": []
    },
    {
      "cell_type": "code",
      "metadata": {
        "colab": {
          "base_uri": "https://localhost:8080/",
          "height": 355
        },
        "id": "gRP5RAcQxSFI",
        "outputId": "ca6d571b-3602-4c30-fd89-42a744808191"
      },
      "source": [
        "# covariance of original dataset\n",
        "mymodel_df = undummify(sample_to_census(synthesized))\n",
        "mymodel_cov = mymodel_df.corr() \n",
        "sns.heatmap(mymodel_cov,\n",
        "        xticklabels=mymodel_cov.columns,\n",
        "        yticklabels=mymodel_cov.columns)"
      ],
      "execution_count": null,
      "outputs": [
        {
          "output_type": "execute_result",
          "data": {
            "text/plain": [
              "<matplotlib.axes._subplots.AxesSubplot at 0x7fa819958910>"
            ]
          },
          "metadata": {},
          "execution_count": 12
        },
        {
          "output_type": "display_data",
          "data": {
            "image/png": "[encoded data removed]",
            "text/plain": [
              "<Figure size 432x288 with 2 Axes>"
            ]
          },
          "metadata": {
            "needs_background": "light"
          }
        }
      ]
    },
    {
      "cell_type": "code",
      "metadata": {
        "colab": {
          "base_uri": "https://localhost:8080/",
          "height": 207
        },
        "id": "5qGAnx_Pxvc5",
        "outputId": "b6d95192-e14e-4989-ab91-a6a5267d79dd"
      },
      "source": [
        "mymodel_cov"
      ],
      "execution_count": null,
      "outputs": [
        {
          "output_type": "execute_result",
          "data": {
            "text/html": [
              "<div>\n",
              "<style scoped>\n",
              "    .dataframe tbody tr th:only-of-type {\n",
              "        vertical-align: middle;\n",
              "    }\n",
              "\n",
              "    .dataframe tbody tr th {\n",
              "        vertical-align: top;\n",
              "    }\n",
              "\n",
              "    .dataframe thead th {\n",
              "        text-align: right;\n",
              "    }\n",
              "</style>\n",
              "<table border=\"1\" class=\"dataframe\">\n",
              "  <thead>\n",
              "    <tr style=\"text-align: right;\">\n",
              "      <th></th>\n",
              "      <th>age</th>\n",
              "      <th>capital-gain</th>\n",
              "      <th>capital-loss</th>\n",
              "      <th>hours-per-week</th>\n",
              "      <th>class</th>\n",
              "    </tr>\n",
              "  </thead>\n",
              "  <tbody>\n",
              "    <tr>\n",
              "      <th>age</th>\n",
              "      <td>1.000000</td>\n",
              "      <td>0.183218</td>\n",
              "      <td>0.129900</td>\n",
              "      <td>0.451571</td>\n",
              "      <td>0.330123</td>\n",
              "    </tr>\n",
              "    <tr>\n",
              "      <th>capital-gain</th>\n",
              "      <td>0.183218</td>\n",
              "      <td>1.000000</td>\n",
              "      <td>0.782889</td>\n",
              "      <td>0.427974</td>\n",
              "      <td>0.242779</td>\n",
              "    </tr>\n",
              "    <tr>\n",
              "      <th>capital-loss</th>\n",
              "      <td>0.129900</td>\n",
              "      <td>0.782889</td>\n",
              "      <td>1.000000</td>\n",
              "      <td>0.406795</td>\n",
              "      <td>0.093495</td>\n",
              "    </tr>\n",
              "    <tr>\n",
              "      <th>hours-per-week</th>\n",
              "      <td>0.451571</td>\n",
              "      <td>0.427974</td>\n",
              "      <td>0.406795</td>\n",
              "      <td>1.000000</td>\n",
              "      <td>0.475510</td>\n",
              "    </tr>\n",
              "    <tr>\n",
              "      <th>class</th>\n",
              "      <td>0.330123</td>\n",
              "      <td>0.242779</td>\n",
              "      <td>0.093495</td>\n",
              "      <td>0.475510</td>\n",
              "      <td>1.000000</td>\n",
              "    </tr>\n",
              "  </tbody>\n",
              "</table>\n",
              "</div>"
            ],
            "text/plain": [
              "                     age  capital-gain  capital-loss  hours-per-week     class\n",
              "age             1.000000      0.183218      0.129900        0.451571  0.330123\n",
              "capital-gain    0.183218      1.000000      0.782889        0.427974  0.242779\n",
              "capital-loss    0.129900      0.782889      1.000000        0.406795  0.093495\n",
              "hours-per-week  0.451571      0.427974      0.406795        1.000000  0.475510\n",
              "class           0.330123      0.242779      0.093495        0.475510  1.000000"
            ]
          },
          "metadata": {},
          "execution_count": 14
        }
      ]
    },
    {
      "cell_type": "code",
      "metadata": {
        "colab": {
          "base_uri": "https://localhost:8080/",
          "height": 207
        },
        "id": "6YV3x1Q80AQP",
        "outputId": "7aedcc6b-7391-42b6-811f-bc7fbf052e52"
      },
      "source": [
        "# square error between my model and original one\n",
        "(mymodel_cov - origin_cov) ** 2"
      ],
      "execution_count": null,
      "outputs": [
        {
          "output_type": "execute_result",
          "data": {
            "text/html": [
              "<div>\n",
              "<style scoped>\n",
              "    .dataframe tbody tr th:only-of-type {\n",
              "        vertical-align: middle;\n",
              "    }\n",
              "\n",
              "    .dataframe tbody tr th {\n",
              "        vertical-align: top;\n",
              "    }\n",
              "\n",
              "    .dataframe thead th {\n",
              "        text-align: right;\n",
              "    }\n",
              "</style>\n",
              "<table border=\"1\" class=\"dataframe\">\n",
              "  <thead>\n",
              "    <tr style=\"text-align: right;\">\n",
              "      <th></th>\n",
              "      <th>age</th>\n",
              "      <th>capital-gain</th>\n",
              "      <th>capital-loss</th>\n",
              "      <th>hours-per-week</th>\n",
              "      <th>class</th>\n",
              "    </tr>\n",
              "  </thead>\n",
              "  <tbody>\n",
              "    <tr>\n",
              "      <th>age</th>\n",
              "      <td>0.000000</td>\n",
              "      <td>0.014454</td>\n",
              "      <td>0.005422</td>\n",
              "      <td>0.169702</td>\n",
              "      <td>0.010228</td>\n",
              "    </tr>\n",
              "    <tr>\n",
              "      <th>capital-gain</th>\n",
              "      <td>0.014454</td>\n",
              "      <td>0.000000</td>\n",
              "      <td>0.666390</td>\n",
              "      <td>0.126777</td>\n",
              "      <td>0.000611</td>\n",
              "    </tr>\n",
              "    <tr>\n",
              "      <th>capital-loss</th>\n",
              "      <td>0.005422</td>\n",
              "      <td>0.666390</td>\n",
              "      <td>0.000000</td>\n",
              "      <td>0.107200</td>\n",
              "      <td>0.004381</td>\n",
              "    </tr>\n",
              "    <tr>\n",
              "      <th>hours-per-week</th>\n",
              "      <td>0.169702</td>\n",
              "      <td>0.126777</td>\n",
              "      <td>0.107200</td>\n",
              "      <td>0.000000</td>\n",
              "      <td>0.054944</td>\n",
              "    </tr>\n",
              "    <tr>\n",
              "      <th>class</th>\n",
              "      <td>0.010228</td>\n",
              "      <td>0.000611</td>\n",
              "      <td>0.004381</td>\n",
              "      <td>0.054944</td>\n",
              "      <td>0.000000</td>\n",
              "    </tr>\n",
              "  </tbody>\n",
              "</table>\n",
              "</div>"
            ],
            "text/plain": [
              "                     age  capital-gain  capital-loss  hours-per-week     class\n",
              "age             0.000000      0.014454      0.005422        0.169702  0.010228\n",
              "capital-gain    0.014454      0.000000      0.666390        0.126777  0.000611\n",
              "capital-loss    0.005422      0.666390      0.000000        0.107200  0.004381\n",
              "hours-per-week  0.169702      0.126777      0.107200        0.000000  0.054944\n",
              "class           0.010228      0.000611      0.004381        0.054944  0.000000"
            ]
          },
          "metadata": {},
          "execution_count": 15
        }
      ]
    },
    {
      "cell_type": "code",
      "metadata": {
        "colab": {
          "base_uri": "https://localhost:8080/"
        },
        "id": "CeeT46GodcDb",
        "outputId": "5eb61cad-8499-4834-b2a4-97ae2212aa04"
      },
      "source": [
        "((mymodel_cov - origin_cov) ** 2).sum()"
      ],
      "execution_count": null,
      "outputs": [
        {
          "output_type": "execute_result",
          "data": {
            "text/plain": [
              "age               0.199806\n",
              "capital-gain      0.808232\n",
              "capital-loss      0.783392\n",
              "hours-per-week    0.458623\n",
              "class             0.070163\n",
              "dtype: float64"
            ]
          },
          "metadata": {},
          "execution_count": 24
        }
      ]
    },
    {
      "cell_type": "code",
      "metadata": {
        "id": "zARaX43qVMZ9"
      },
      "source": [
        "# cov matrix of dp-gan\n",
        "census_dpgan = pd.read_csv(\"/content/gdrive/My Drive/Fairness_Project/Synthesized/census_5000_dpgan.csv\", index_col=0)"
      ],
      "execution_count": null,
      "outputs": []
    },
    {
      "cell_type": "code",
      "metadata": {
        "colab": {
          "base_uri": "https://localhost:8080/",
          "height": 355
        },
        "id": "uMqCqvylVdKa",
        "outputId": "6493b2b5-72e9-46c1-dd91-23a91007db7b"
      },
      "source": [
        "# covariance of original dataset\n",
        "census_dpgan_df = undummify(sample_to_census(census_dpgan))\n",
        "census_dpgan_cov = census_dpgan_df.corr() \n",
        "sns.heatmap(census_dpgan_cov,\n",
        "        xticklabels=census_dpgan_cov.columns,\n",
        "        yticklabels=census_dpgan_cov.columns)"
      ],
      "execution_count": null,
      "outputs": [
        {
          "output_type": "execute_result",
          "data": {
            "text/plain": [
              "<matplotlib.axes._subplots.AxesSubplot at 0x7fa819ba47d0>"
            ]
          },
          "metadata": {},
          "execution_count": 14
        },
        {
          "output_type": "display_data",
          "data": {
            "image/png": "[encoded data removed]",
            "text/plain": [
              "<Figure size 432x288 with 2 Axes>"
            ]
          },
          "metadata": {
            "needs_background": "light"
          }
        }
      ]
    },
    {
      "cell_type": "code",
      "metadata": {
        "colab": {
          "base_uri": "https://localhost:8080/",
          "height": 207
        },
        "id": "hoMNnXQRWFur",
        "outputId": "62be3339-ba67-46a9-f0ab-d340bf68884a"
      },
      "source": [
        "census_dpgan_cov"
      ],
      "execution_count": null,
      "outputs": [
        {
          "output_type": "execute_result",
          "data": {
            "text/html": [
              "<div>\n",
              "<style scoped>\n",
              "    .dataframe tbody tr th:only-of-type {\n",
              "        vertical-align: middle;\n",
              "    }\n",
              "\n",
              "    .dataframe tbody tr th {\n",
              "        vertical-align: top;\n",
              "    }\n",
              "\n",
              "    .dataframe thead th {\n",
              "        text-align: right;\n",
              "    }\n",
              "</style>\n",
              "<table border=\"1\" class=\"dataframe\">\n",
              "  <thead>\n",
              "    <tr style=\"text-align: right;\">\n",
              "      <th></th>\n",
              "      <th>age</th>\n",
              "      <th>capital-gain</th>\n",
              "      <th>capital-loss</th>\n",
              "      <th>hours-per-week</th>\n",
              "      <th>class</th>\n",
              "    </tr>\n",
              "  </thead>\n",
              "  <tbody>\n",
              "    <tr>\n",
              "      <th>age</th>\n",
              "      <td>1.000000</td>\n",
              "      <td>-0.054980</td>\n",
              "      <td>-0.199219</td>\n",
              "      <td>-0.236590</td>\n",
              "      <td>0.002511</td>\n",
              "    </tr>\n",
              "    <tr>\n",
              "      <th>capital-gain</th>\n",
              "      <td>-0.054980</td>\n",
              "      <td>1.000000</td>\n",
              "      <td>-0.151030</td>\n",
              "      <td>0.482393</td>\n",
              "      <td>-0.009379</td>\n",
              "    </tr>\n",
              "    <tr>\n",
              "      <th>capital-loss</th>\n",
              "      <td>-0.199219</td>\n",
              "      <td>-0.151030</td>\n",
              "      <td>1.000000</td>\n",
              "      <td>0.212584</td>\n",
              "      <td>0.148201</td>\n",
              "    </tr>\n",
              "    <tr>\n",
              "      <th>hours-per-week</th>\n",
              "      <td>-0.236590</td>\n",
              "      <td>0.482393</td>\n",
              "      <td>0.212584</td>\n",
              "      <td>1.000000</td>\n",
              "      <td>-0.014855</td>\n",
              "    </tr>\n",
              "    <tr>\n",
              "      <th>class</th>\n",
              "      <td>0.002511</td>\n",
              "      <td>-0.009379</td>\n",
              "      <td>0.148201</td>\n",
              "      <td>-0.014855</td>\n",
              "      <td>1.000000</td>\n",
              "    </tr>\n",
              "  </tbody>\n",
              "</table>\n",
              "</div>"
            ],
            "text/plain": [
              "                     age  capital-gain  capital-loss  hours-per-week     class\n",
              "age             1.000000     -0.054980     -0.199219       -0.236590  0.002511\n",
              "capital-gain   -0.054980      1.000000     -0.151030        0.482393 -0.009379\n",
              "capital-loss   -0.199219     -0.151030      1.000000        0.212584  0.148201\n",
              "hours-per-week -0.236590      0.482393      0.212584        1.000000 -0.014855\n",
              "class           0.002511     -0.009379      0.148201       -0.014855  1.000000"
            ]
          },
          "metadata": {},
          "execution_count": 23
        }
      ]
    },
    {
      "cell_type": "code",
      "metadata": {
        "colab": {
          "base_uri": "https://localhost:8080/",
          "height": 207
        },
        "id": "DkP8IaWFWJIX",
        "outputId": "1cc30e9b-2cc4-45ce-88bb-4cac5220d4cc"
      },
      "source": [
        "# square error between my model and original one\n",
        "(census_dpgan_cov - origin_cov) ** 2"
      ],
      "execution_count": null,
      "outputs": [
        {
          "output_type": "execute_result",
          "data": {
            "text/html": [
              "<div>\n",
              "<style scoped>\n",
              "    .dataframe tbody tr th:only-of-type {\n",
              "        vertical-align: middle;\n",
              "    }\n",
              "\n",
              "    .dataframe tbody tr th {\n",
              "        vertical-align: top;\n",
              "    }\n",
              "\n",
              "    .dataframe thead th {\n",
              "        text-align: right;\n",
              "    }\n",
              "</style>\n",
              "<table border=\"1\" class=\"dataframe\">\n",
              "  <thead>\n",
              "    <tr style=\"text-align: right;\">\n",
              "      <th></th>\n",
              "      <th>age</th>\n",
              "      <th>capital-gain</th>\n",
              "      <th>capital-loss</th>\n",
              "      <th>hours-per-week</th>\n",
              "      <th>class</th>\n",
              "    </tr>\n",
              "  </thead>\n",
              "  <tbody>\n",
              "    <tr>\n",
              "      <th>age</th>\n",
              "      <td>0.000000</td>\n",
              "      <td>0.013917</td>\n",
              "      <td>0.065274</td>\n",
              "      <td>0.076293</td>\n",
              "      <td>0.051293</td>\n",
              "    </tr>\n",
              "    <tr>\n",
              "      <th>capital-gain</th>\n",
              "      <td>0.013917</td>\n",
              "      <td>0.000000</td>\n",
              "      <td>0.013828</td>\n",
              "      <td>0.168492</td>\n",
              "      <td>0.051729</td>\n",
              "    </tr>\n",
              "    <tr>\n",
              "      <th>capital-loss</th>\n",
              "      <td>0.065274</td>\n",
              "      <td>0.013828</td>\n",
              "      <td>0.000000</td>\n",
              "      <td>0.017743</td>\n",
              "      <td>0.000132</td>\n",
              "    </tr>\n",
              "    <tr>\n",
              "      <th>hours-per-week</th>\n",
              "      <td>0.076293</td>\n",
              "      <td>0.168492</td>\n",
              "      <td>0.017743</td>\n",
              "      <td>0.000000</td>\n",
              "      <td>0.065517</td>\n",
              "    </tr>\n",
              "    <tr>\n",
              "      <th>class</th>\n",
              "      <td>0.051293</td>\n",
              "      <td>0.051729</td>\n",
              "      <td>0.000132</td>\n",
              "      <td>0.065517</td>\n",
              "      <td>0.000000</td>\n",
              "    </tr>\n",
              "  </tbody>\n",
              "</table>\n",
              "</div>"
            ],
            "text/plain": [
              "                     age  capital-gain  capital-loss  hours-per-week     class\n",
              "age             0.000000      0.013917      0.065274        0.076293  0.051293\n",
              "capital-gain    0.013917      0.000000      0.013828        0.168492  0.051729\n",
              "capital-loss    0.065274      0.013828      0.000000        0.017743  0.000132\n",
              "hours-per-week  0.076293      0.168492      0.017743        0.000000  0.065517\n",
              "class           0.051293      0.051729      0.000132        0.065517  0.000000"
            ]
          },
          "metadata": {},
          "execution_count": 24
        }
      ]
    },
    {
      "cell_type": "code",
      "metadata": {
        "colab": {
          "base_uri": "https://localhost:8080/"
        },
        "id": "RyUDsEwBgLvx",
        "outputId": "62ca66ef-7e36-4456-dcd2-3f7f8dde424a"
      },
      "source": [
        "((census_dpgan_cov - origin_cov) ** 2).sum()"
      ],
      "execution_count": null,
      "outputs": [
        {
          "output_type": "execute_result",
          "data": {
            "text/plain": [
              "age               0.206777\n",
              "capital-gain      0.247967\n",
              "capital-loss      0.096976\n",
              "hours-per-week    0.328045\n",
              "class             0.168672\n",
              "dtype: float64"
            ]
          },
          "metadata": {},
          "execution_count": 25
        }
      ]
    },
    {
      "cell_type": "code",
      "metadata": {
        "id": "x2kPHmneKe4R"
      },
      "source": [
        "# cov matrix of pate-gan\n",
        "census_pategan = np.loadtxt(\"/content/gdrive/My Drive/Fairness_Project/Synthesized/census_5000_pategan_paper.txt\")"
      ],
      "execution_count": null,
      "outputs": []
    },
    {
      "cell_type": "code",
      "metadata": {
        "colab": {
          "base_uri": "https://localhost:8080/",
          "height": 355
        },
        "id": "78OorUdgKxgl",
        "outputId": "64f11709-1ce4-497f-ec92-32c78a2ded55"
      },
      "source": [
        "# covariance of original dataset\n",
        "census_pategan_df = undummify(sample_to_census(census_pategan))\n",
        "census_pategan_cov = census_pategan_df.corr() \n",
        "sns.heatmap(census_pategan_cov,\n",
        "        xticklabels=census_pategan_cov.columns,\n",
        "        yticklabels=census_pategan_cov.columns)"
      ],
      "execution_count": null,
      "outputs": [
        {
          "output_type": "execute_result",
          "data": {
            "text/plain": [
              "<matplotlib.axes._subplots.AxesSubplot at 0x7fa819a1cfd0>"
            ]
          },
          "metadata": {},
          "execution_count": 16
        },
        {
          "output_type": "display_data",
          "data": {
            "image/png": "[encoded data removed]",
            "text/plain": [
              "<Figure size 432x288 with 2 Axes>"
            ]
          },
          "metadata": {
            "needs_background": "light"
          }
        }
      ]
    },
    {
      "cell_type": "code",
      "metadata": {
        "colab": {
          "base_uri": "https://localhost:8080/",
          "height": 207
        },
        "id": "ppM0yWi-gi1r",
        "outputId": "b461a65e-05cf-4d72-af00-3f954fe50f37"
      },
      "source": [
        "# square error between pate gan and original one\n",
        "(census_pategan_cov - origin_cov) ** 2"
      ],
      "execution_count": null,
      "outputs": [
        {
          "output_type": "execute_result",
          "data": {
            "text/html": [
              "<div>\n",
              "<style scoped>\n",
              "    .dataframe tbody tr th:only-of-type {\n",
              "        vertical-align: middle;\n",
              "    }\n",
              "\n",
              "    .dataframe tbody tr th {\n",
              "        vertical-align: top;\n",
              "    }\n",
              "\n",
              "    .dataframe thead th {\n",
              "        text-align: right;\n",
              "    }\n",
              "</style>\n",
              "<table border=\"1\" class=\"dataframe\">\n",
              "  <thead>\n",
              "    <tr style=\"text-align: right;\">\n",
              "      <th></th>\n",
              "      <th>age</th>\n",
              "      <th>capital-gain</th>\n",
              "      <th>capital-loss</th>\n",
              "      <th>hours-per-week</th>\n",
              "      <th>class</th>\n",
              "    </tr>\n",
              "  </thead>\n",
              "  <tbody>\n",
              "    <tr>\n",
              "      <th>age</th>\n",
              "      <td>0.000000</td>\n",
              "      <td>0.000183</td>\n",
              "      <td>0.049297</td>\n",
              "      <td>0.017471</td>\n",
              "      <td>0.004621</td>\n",
              "    </tr>\n",
              "    <tr>\n",
              "      <th>capital-gain</th>\n",
              "      <td>0.000183</td>\n",
              "      <td>0.000000</td>\n",
              "      <td>0.050346</td>\n",
              "      <td>0.010277</td>\n",
              "      <td>0.074600</td>\n",
              "    </tr>\n",
              "    <tr>\n",
              "      <th>capital-loss</th>\n",
              "      <td>0.049297</td>\n",
              "      <td>0.050346</td>\n",
              "      <td>0.000000</td>\n",
              "      <td>0.000121</td>\n",
              "      <td>0.018840</td>\n",
              "    </tr>\n",
              "    <tr>\n",
              "      <th>hours-per-week</th>\n",
              "      <td>0.017471</td>\n",
              "      <td>0.010277</td>\n",
              "      <td>0.000121</td>\n",
              "      <td>0.000000</td>\n",
              "      <td>0.209709</td>\n",
              "    </tr>\n",
              "    <tr>\n",
              "      <th>class</th>\n",
              "      <td>0.004621</td>\n",
              "      <td>0.074600</td>\n",
              "      <td>0.018840</td>\n",
              "      <td>0.209709</td>\n",
              "      <td>0.000000</td>\n",
              "    </tr>\n",
              "  </tbody>\n",
              "</table>\n",
              "</div>"
            ],
            "text/plain": [
              "                     age  capital-gain  capital-loss  hours-per-week     class\n",
              "age             0.000000      0.000183      0.049297        0.017471  0.004621\n",
              "capital-gain    0.000183      0.000000      0.050346        0.010277  0.074600\n",
              "capital-loss    0.049297      0.050346      0.000000        0.000121  0.018840\n",
              "hours-per-week  0.017471      0.010277      0.000121        0.000000  0.209709\n",
              "class           0.004621      0.074600      0.018840        0.209709  0.000000"
            ]
          },
          "metadata": {},
          "execution_count": 26
        }
      ]
    },
    {
      "cell_type": "code",
      "metadata": {
        "colab": {
          "base_uri": "https://localhost:8080/"
        },
        "id": "4oQd5RGQgldp",
        "outputId": "c69cdc03-dea6-49aa-c31c-21a3996005cc"
      },
      "source": [
        "# square error between pate gan and original one\n",
        "((census_pategan_cov - origin_cov) ** 2).sum()"
      ],
      "execution_count": null,
      "outputs": [
        {
          "output_type": "execute_result",
          "data": {
            "text/plain": [
              "age               0.071572\n",
              "capital-gain      0.135406\n",
              "capital-loss      0.118604\n",
              "hours-per-week    0.237578\n",
              "class             0.307770\n",
              "dtype: float64"
            ]
          },
          "metadata": {},
          "execution_count": 27
        }
      ]
    },
    {
      "cell_type": "markdown",
      "metadata": {
        "id": "-4lnS4E_xWkd"
      },
      "source": [
        "### momentums"
      ]
    },
    {
      "cell_type": "code",
      "metadata": {
        "colab": {
          "base_uri": "https://localhost:8080/"
        },
        "id": "HUVkkTOs7r-l",
        "outputId": "7f6fde2d-4d47-4476-926b-c8879d68e3cf"
      },
      "source": [
        "origin_df.mean(axis=0)"
      ],
      "execution_count": null,
      "outputs": [
        {
          "output_type": "execute_result",
          "data": {
            "text/plain": [
              "age                 38.5326\n",
              "capital-gain      1033.6284\n",
              "capital-loss        93.6952\n",
              "hours-per-week      40.5150\n",
              "class                0.2442\n",
              "dtype: float64"
            ]
          },
          "metadata": {},
          "execution_count": 28
        }
      ]
    },
    {
      "cell_type": "code",
      "metadata": {
        "colab": {
          "base_uri": "https://localhost:8080/"
        },
        "id": "uQmiewt97yZd",
        "outputId": "5c9e1ac7-a555-4c8d-b0dc-2b623c77020a"
      },
      "source": [
        "mymodel_df.mean(axis=0)"
      ],
      "execution_count": null,
      "outputs": [
        {
          "output_type": "execute_result",
          "data": {
            "text/plain": [
              "age                 37.5152\n",
              "capital-gain      8187.5314\n",
              "capital-loss       298.2812\n",
              "hours-per-week      40.5828\n",
              "class                0.3610\n",
              "dtype: float64"
            ]
          },
          "metadata": {},
          "execution_count": 29
        }
      ]
    },
    {
      "cell_type": "code",
      "metadata": {
        "colab": {
          "base_uri": "https://localhost:8080/"
        },
        "id": "Ky_EdrnztqsE",
        "outputId": "11e5b482-da8a-4bfd-e6bc-6b86c6c2f18d"
      },
      "source": [
        "census_dpgan_df.mean(axis=0)"
      ],
      "execution_count": null,
      "outputs": [
        {
          "output_type": "execute_result",
          "data": {
            "text/plain": [
              "age                   1.7792\n",
              "capital-gain      11579.4356\n",
              "capital-loss       -499.8672\n",
              "hours-per-week       -8.5138\n",
              "class                 0.2514\n",
              "dtype: float64"
            ]
          },
          "metadata": {},
          "execution_count": 30
        }
      ]
    },
    {
      "cell_type": "code",
      "metadata": {
        "colab": {
          "base_uri": "https://localhost:8080/"
        },
        "id": "D6xFMhcltw6q",
        "outputId": "76b69b37-1109-4660-96a4-7aa2acb01762"
      },
      "source": [
        "census_pategan_df.mean(axis=0)"
      ],
      "execution_count": null,
      "outputs": [
        {
          "output_type": "execute_result",
          "data": {
            "text/plain": [
              "age                  44.472145\n",
              "capital-gain      50058.197550\n",
              "capital-loss       2191.371395\n",
              "hours-per-week       49.421968\n",
              "class                 0.500198\n",
              "dtype: float64"
            ]
          },
          "metadata": {},
          "execution_count": 31
        }
      ]
    },
    {
      "cell_type": "code",
      "metadata": {
        "colab": {
          "base_uri": "https://localhost:8080/"
        },
        "id": "ueWcSWkL76-N",
        "outputId": "e8265dbb-8ade-413e-9d3c-681efdcc911c"
      },
      "source": [
        "origin_df.var(axis=0)"
      ],
      "execution_count": null,
      "outputs": [
        {
          "output_type": "execute_result",
          "data": {
            "text/plain": [
              "age               1.842814e+02\n",
              "capital-gain      4.972772e+07\n",
              "capital-loss      1.687529e+05\n",
              "hours-per-week    1.465983e+02\n",
              "class             1.846033e-01\n",
              "dtype: float64"
            ]
          },
          "metadata": {},
          "execution_count": 32
        }
      ]
    },
    {
      "cell_type": "code",
      "metadata": {
        "colab": {
          "base_uri": "https://localhost:8080/"
        },
        "id": "6jN7W2187Rhg",
        "outputId": "a744151c-b84d-4d5f-85b4-e3f38c22437f"
      },
      "source": [
        "census_dpgan_df.var(axis=0)"
      ],
      "execution_count": null,
      "outputs": [
        {
          "output_type": "execute_result",
          "data": {
            "text/plain": [
              "age               1.062483e+03\n",
              "capital-gain      1.481932e+09\n",
              "capital-loss      1.856199e+06\n",
              "hours-per-week    1.357706e+03\n",
              "class             1.882357e-01\n",
              "dtype: float64"
            ]
          },
          "metadata": {},
          "execution_count": 34
        }
      ]
    },
    {
      "cell_type": "code",
      "metadata": {
        "colab": {
          "base_uri": "https://localhost:8080/"
        },
        "id": "NnlJobfM7otd",
        "outputId": "72899c6a-742d-4a18-a8d1-8a3724066f64"
      },
      "source": [
        "census_pategan_df.var(axis=0)"
      ],
      "execution_count": null,
      "outputs": [
        {
          "output_type": "execute_result",
          "data": {
            "text/plain": [
              "age               2.101505e+02\n",
              "capital-gain      2.485816e+08\n",
              "capital-loss      4.581812e+05\n",
              "hours-per-week    3.388614e+02\n",
              "class             2.500988e-01\n",
              "dtype: float64"
            ]
          },
          "metadata": {},
          "execution_count": 35
        }
      ]
    },
    {
      "cell_type": "code",
      "metadata": {
        "colab": {
          "base_uri": "https://localhost:8080/"
        },
        "id": "iAYmRbel8FzF",
        "outputId": "a4f6a5d8-2da0-469a-fc12-15656dc2e1e5"
      },
      "source": [
        "mymodel_df.var(axis=0)"
      ],
      "execution_count": null,
      "outputs": [
        {
          "output_type": "execute_result",
          "data": {
            "text/plain": [
              "age               9.927242e+01\n",
              "capital-gain      2.732494e+08\n",
              "capital-loss      2.453345e+05\n",
              "hours-per-week    5.432961e+01\n",
              "class             2.307251e-01\n",
              "dtype: float64"
            ]
          },
          "metadata": {},
          "execution_count": 33
        }
      ]
    },
    {
      "cell_type": "markdown",
      "metadata": {
        "id": "PJU2B7y78dUZ"
      },
      "source": [
        "### histogram"
      ]
    },
    {
      "cell_type": "code",
      "metadata": {
        "colab": {
          "base_uri": "https://localhost:8080/",
          "height": 1000
        },
        "id": "jYl81Y318YWo",
        "outputId": "bbbb687e-5f93-432c-c451-17057c71a15b"
      },
      "source": [
        "origin_df['workclass'].value_counts().plot(kind='bar')\n",
        "plt.show()\n",
        "origin_df['education'].value_counts().plot(kind='bar')\n",
        "plt.show()\n",
        "origin_df['race'].value_counts().plot(kind='bar')\n",
        "plt.show()\n",
        "origin_df['occupation'].value_counts().plot(kind='bar')\n",
        "plt.show()\n",
        "origin_df['sex'].value_counts().plot(kind='bar')\n",
        "plt.show()"
      ],
      "execution_count": null,
      "outputs": [
        {
          "output_type": "display_data",
          "data": {
            "image/png": "[encoded data removed]",
            "text/plain": [
              "<Figure size 432x288 with 1 Axes>"
            ]
          },
          "metadata": {
            "needs_background": "light"
          }
        },
        {
          "output_type": "display_data",
          "data": {
            "image/png": "[encoded data removed]",
            "text/plain": [
              "<Figure size 432x288 with 1 Axes>"
            ]
          },
          "metadata": {
            "needs_background": "light"
          }
        },
        {
          "output_type": "display_data",
          "data": {
            "image/png": "[encoded data removed]",
            "text/plain": [
              "<Figure size 432x288 with 1 Axes>"
            ]
          },
          "metadata": {
            "needs_background": "light"
          }
        },
        {
          "output_type": "display_data",
          "data": {
            "image/png": "[encoded data removed]",
            "text/plain": [
              "<Figure size 432x288 with 1 Axes>"
            ]
          },
          "metadata": {
            "needs_background": "light"
          }
        },
        {
          "output_type": "display_data",
          "data": {
            "image/png": "[encoded data removed]",
            "text/plain": [
              "<Figure size 432x288 with 1 Axes>"
            ]
          },
          "metadata": {
            "needs_background": "light"
          }
        }
      ]
    },
    {
      "cell_type": "code",
      "metadata": {
        "colab": {
          "base_uri": "https://localhost:8080/",
          "height": 1000
        },
        "id": "ecSD0Hqu8t5D",
        "outputId": "1387a708-002d-42cd-d67c-4e920f838bd8"
      },
      "source": [
        "mymodel_df['workclass'].value_counts().plot(kind='bar')\n",
        "plt.show()\n",
        "mymodel_df['education'].value_counts().plot(kind='bar')\n",
        "plt.show()\n",
        "mymodel_df['race'].value_counts().plot(kind='bar')\n",
        "plt.show()\n",
        "mymodel_df['occupation'].value_counts().plot(kind='bar')\n",
        "plt.show()\n",
        "mymodel_df['sex'].value_counts().plot(kind='bar')"
      ],
      "execution_count": null,
      "outputs": [
        {
          "output_type": "display_data",
          "data": {
            "image/png": "[encoded data removed]",
            "text/plain": [
              "<Figure size 432x288 with 1 Axes>"
            ]
          },
          "metadata": {
            "needs_background": "light"
          }
        },
        {
          "output_type": "display_data",
          "data": {
            "image/png": "[encoded data removed]",
            "text/plain": [
              "<Figure size 432x288 with 1 Axes>"
            ]
          },
          "metadata": {
            "needs_background": "light"
          }
        },
        {
          "output_type": "display_data",
          "data": {
            "image/png": "[encoded data removed]",
            "text/plain": [
              "<Figure size 432x288 with 1 Axes>"
            ]
          },
          "metadata": {
            "needs_background": "light"
          }
        },
        {
          "output_type": "display_data",
          "data": {
            "image/png": "[encoded data removed]",
            "text/plain": [
              "<Figure size 432x288 with 1 Axes>"
            ]
          },
          "metadata": {
            "needs_background": "light"
          }
        },
        {
          "output_type": "execute_result",
          "data": {
            "text/plain": [
              "<matplotlib.axes._subplots.AxesSubplot at 0x7f89a4821b10>"
            ]
          },
          "metadata": {},
          "execution_count": 18
        },
        {
          "output_type": "display_data",
          "data": {
            "image/png": "[encoded data removed]",
            "text/plain": [
              "<Figure size 432x288 with 1 Axes>"
            ]
          },
          "metadata": {
            "needs_background": "light"
          }
        }
      ]
    },
    {
      "cell_type": "code",
      "metadata": {
        "colab": {
          "base_uri": "https://localhost:8080/",
          "height": 1000
        },
        "id": "iYz4VjawWvaK",
        "outputId": "5b12d412-3157-46e9-9c83-7ce69664b834"
      },
      "source": [
        "census_dpgan_df['workclass'].value_counts().plot(kind='bar')\n",
        "plt.show()\n",
        "census_dpgan_df['education'].value_counts().plot(kind='bar')\n",
        "plt.show()\n",
        "census_dpgan_df['race'].value_counts().plot(kind='bar')\n",
        "plt.show()\n",
        "census_dpgan_df['occupation'].value_counts().plot(kind='bar')\n",
        "plt.show()\n",
        "census_dpgan_df['sex'].value_counts().plot(kind='bar')\n",
        "plt.show()"
      ],
      "execution_count": null,
      "outputs": [
        {
          "output_type": "display_data",
          "data": {
            "image/png": "[encoded data removed]",
            "text/plain": [
              "<Figure size 432x288 with 1 Axes>"
            ]
          },
          "metadata": {
            "needs_background": "light"
          }
        },
        {
          "output_type": "display_data",
          "data": {
            "image/png": "[encoded data removed]",
            "text/plain": [
              "<Figure size 432x288 with 1 Axes>"
            ]
          },
          "metadata": {
            "needs_background": "light"
          }
        },
        {
          "output_type": "display_data",
          "data": {
            "image/png": "[encoded data removed]",
            "text/plain": [
              "<Figure size 432x288 with 1 Axes>"
            ]
          },
          "metadata": {
            "needs_background": "light"
          }
        },
        {
          "output_type": "display_data",
          "data": {
            "image/png": "[encoded data removed]",
            "text/plain": [
              "<Figure size 432x288 with 1 Axes>"
            ]
          },
          "metadata": {
            "needs_background": "light"
          }
        },
        {
          "output_type": "display_data",
          "data": {
            "image/png": "[encoded data removed]",
            "text/plain": [
              "<Figure size 432x288 with 1 Axes>"
            ]
          },
          "metadata": {
            "needs_background": "light"
          }
        }
      ]
    },
    {
      "cell_type": "code",
      "metadata": {
        "colab": {
          "base_uri": "https://localhost:8080/",
          "height": 1000
        },
        "id": "As91wVEB8zib",
        "outputId": "337e57a4-1d19-4996-958f-8109322a4940"
      },
      "source": [
        "census_pategan_df['workclass'].value_counts().plot(kind='bar')\n",
        "plt.show()\n",
        "census_pategan_df['education'].value_counts().plot(kind='bar')\n",
        "plt.show()\n",
        "census_pategan_df['race'].value_counts().plot(kind='bar')\n",
        "plt.show()\n",
        "census_pategan_df['occupation'].value_counts().plot(kind='bar')\n",
        "plt.show()\n",
        "census_pategan_df['sex'].value_counts().plot(kind='bar')\n",
        "plt.show()"
      ],
      "execution_count": null,
      "outputs": [
        {
          "output_type": "display_data",
          "data": {
            "image/png": "[encoded data removed]",
            "text/plain": [
              "<Figure size 432x288 with 1 Axes>"
            ]
          },
          "metadata": {
            "needs_background": "light"
          }
        },
        {
          "output_type": "display_data",
          "data": {
            "image/png": "[encoded data removed]",
            "text/plain": [
              "<Figure size 432x288 with 1 Axes>"
            ]
          },
          "metadata": {
            "needs_background": "light"
          }
        },
        {
          "output_type": "display_data",
          "data": {
            "image/png": "[encoded data removed]",
            "text/plain": [
              "<Figure size 432x288 with 1 Axes>"
            ]
          },
          "metadata": {
            "needs_background": "light"
          }
        },
        {
          "output_type": "display_data",
          "data": {
            "image/png": "[encoded data removed]",
            "text/plain": [
              "<Figure size 432x288 with 1 Axes>"
            ]
          },
          "metadata": {
            "needs_background": "light"
          }
        },
        {
          "output_type": "display_data",
          "data": {
            "image/png": "[encoded data removed]",
            "text/plain": [
              "<Figure size 432x288 with 1 Axes>"
            ]
          },
          "metadata": {
            "needs_background": "light"
          }
        }
      ]
    },
    {
      "cell_type": "markdown",
      "metadata": {
        "id": "DRWqs1MixbYN"
      },
      "source": [
        "### weighted distance"
      ]
    },
    {
      "cell_type": "code",
      "metadata": {
        "colab": {
          "base_uri": "https://localhost:8080/"
        },
        "id": "TESwPPz1IOGz",
        "outputId": "f709d5a4-79b2-4ba3-be42-631552ec2216"
      },
      "source": [
        "((mymodel_cov - origin_cov) ** 2).sum().sum() \\\n",
        "+ 1/50 * ((1 - mymodel_df.mean(axis=0) / origin_df.mean(axis=0)) ** 2).sum() \\\n",
        "+ 1/20 * ((1 - mymodel_df.var(axis=0) / origin_df.var(axis=0)) ** 2).sum() \\\n",
        "+ 1/2 * ((1 - mymodel_df['sex'].value_counts() / origin_df['sex'].value_counts()) ** 2).sum() \\\n",
        "+ 1/5 * ((1 - mymodel_df['race'].value_counts() / origin_df['race'].value_counts()) ** 2).sum() \\"
      ],
      "execution_count": null,
      "outputs": [
        {
          "output_type": "execute_result",
          "data": {
            "text/plain": [
              "5.9794751110316335"
            ]
          },
          "metadata": {},
          "execution_count": 46
        }
      ]
    },
    {
      "cell_type": "code",
      "metadata": {
        "colab": {
          "base_uri": "https://localhost:8080/"
        },
        "id": "0OFUZmchIn5E",
        "outputId": "b62d0e3d-6f7c-46cc-c0bd-368057df0234"
      },
      "source": [
        "((census_dpgan_cov - origin_cov) ** 2).sum().sum() \\\n",
        "+ 1/50 * ((1 - census_dpgan_df.mean(axis=0) / origin_df.mean(axis=0)) ** 2).sum() \\\n",
        "+ 1/20 * ((1 - census_dpgan_df.var(axis=0) / origin_df.var(axis=0)) ** 2).sum() \\\n",
        "+ 1/2 * ((1 - census_dpgan_df['sex'].value_counts() / origin_df['sex'].value_counts()) ** 2).sum() \\\n",
        "+ 1/5 * ((1 - census_dpgan_df['race'].value_counts() / origin_df['race'].value_counts()) ** 2).sum() \\"
      ],
      "execution_count": null,
      "outputs": [
        {
          "output_type": "execute_result",
          "data": {
            "text/plain": [
              "236.1874392384073"
            ]
          },
          "metadata": {},
          "execution_count": 47
        }
      ]
    },
    {
      "cell_type": "code",
      "metadata": {
        "colab": {
          "base_uri": "https://localhost:8080/"
        },
        "id": "-KqezTdqQBNA",
        "outputId": "0d34adaa-9d07-48a8-9ed9-acceed38a547"
      },
      "source": [
        "((census_pategan_cov - origin_cov) ** 2).sum().sum() \\\n",
        "+ 1/50 * ((1 - census_pategan_df.mean(axis=0) / origin_df.mean(axis=0)) ** 2).sum() \\\n",
        "+ 1/20 * ((1 - census_pategan_df.var(axis=0) / origin_df.var(axis=0)) ** 2).sum() \\\n",
        "+ 1/2 * ((1 - census_pategan_df['sex'].value_counts() / origin_df['sex'].value_counts()) ** 2).sum() \\\n",
        "+ 1/5 * ((1 - census_pategan_df['race'].value_counts() / origin_df['race'].value_counts()) ** 2).sum() \\"
      ],
      "execution_count": null,
      "outputs": [
        {
          "output_type": "execute_result",
          "data": {
            "text/plain": [
              "137.84523564159835"
            ]
          },
          "metadata": {},
          "execution_count": 48
        }
      ]
    },
    {
      "cell_type": "markdown",
      "metadata": {
        "id": "vDMNj43-x7sU"
      },
      "source": [
        "### pMSE"
      ]
    },
    {
      "cell_type": "markdown",
      "metadata": {
        "id": "5ZAbCCyex0RP"
      },
      "source": [
        "#### DP-GAN"
      ]
    },
    {
      "cell_type": "code",
      "metadata": {
        "id": "Na4i6zQZZeuU"
      },
      "source": [
        "dataset = pd.concat([origin_df, census_dpgan_df], ignore_index=True)\n",
        "target = np.concatenate((np.zeros(origin_df.shape[0]), np.ones(census_dpgan_df.shape[0])))"
      ],
      "execution_count": null,
      "outputs": []
    },
    {
      "cell_type": "code",
      "metadata": {
        "id": "RxxvVDcyb31V"
      },
      "source": [
        "clf = svm.SVC(kernel='linear', C = 1.0, verbose=1, max_iter=1000, probability=True)"
      ],
      "execution_count": null,
      "outputs": []
    },
    {
      "cell_type": "code",
      "metadata": {
        "id": "RPzNP-fuckwK"
      },
      "source": [
        "x = pd.get_dummies(data=dataset, columns=['workclass', 'education', 'marital-status', 'occupation', 'race', 'sex', 'native-country']).to_numpy()"
      ],
      "execution_count": null,
      "outputs": []
    },
    {
      "cell_type": "code",
      "metadata": {
        "id": "D7ElAqlXeUON"
      },
      "source": [
        "def unison_shuffled_copies(a, b):\n",
        "    assert len(a) == len(b)\n",
        "    p = np.random.permutation(len(a))\n",
        "    return a[p], b[p]"
      ],
      "execution_count": null,
      "outputs": []
    },
    {
      "cell_type": "code",
      "metadata": {
        "id": "kdtLUwj7eVHw"
      },
      "source": [
        "x, target = unison_shuffled_copies(x, target)"
      ],
      "execution_count": null,
      "outputs": []
    },
    {
      "cell_type": "code",
      "metadata": {
        "id": "T0kh0Kt-cvhx"
      },
      "source": [
        "x_train = x[:int(len(x)/2)]\n",
        "x_test = x[int(len(x)/2):]\n",
        "y_train = target[:int(len(target)/2)]\n",
        "y_test = target[int(len(target)/2):]"
      ],
      "execution_count": null,
      "outputs": []
    },
    {
      "cell_type": "code",
      "metadata": {
        "colab": {
          "base_uri": "https://localhost:8080/"
        },
        "id": "j3qzohhFdNgV",
        "outputId": "db883e28-f944-453e-80ef-9c463815808e"
      },
      "source": [
        "clf.fit(x_train, y_train)"
      ],
      "execution_count": null,
      "outputs": [
        {
          "output_type": "stream",
          "name": "stdout",
          "text": [
            "[LibSVM]"
          ]
        },
        {
          "output_type": "stream",
          "name": "stderr",
          "text": [
            "/usr/local/lib/python3.7/dist-packages/sklearn/svm/_base.py:289: ConvergenceWarning: Solver terminated early (max_iter=1000).  Consider pre-processing your data with StandardScaler or MinMaxScaler.\n",
            "  ConvergenceWarning,\n"
          ]
        },
        {
          "output_type": "execute_result",
          "data": {
            "text/plain": [
              "SVC(kernel='linear', max_iter=1000, probability=True, verbose=1)"
            ]
          },
          "metadata": {},
          "execution_count": 93
        }
      ]
    },
    {
      "cell_type": "code",
      "metadata": {
        "colab": {
          "base_uri": "https://localhost:8080/"
        },
        "id": "IjJxD3QufT6d",
        "outputId": "a8d82f42-be2d-423d-c012-d6aef3e2ae82"
      },
      "source": [
        "score = clf.score(x_train, y_train)\n",
        "print(\"Score: \", score)"
      ],
      "execution_count": null,
      "outputs": [
        {
          "output_type": "stream",
          "name": "stdout",
          "text": [
            "Score:  0.612\n"
          ]
        }
      ]
    },
    {
      "cell_type": "code",
      "metadata": {
        "id": "QLLKwCf6fj1z"
      },
      "source": [
        "y_pred = clf.predict(x_test)\n",
        "y_pred_proba = clf.predict_proba(x_test)"
      ],
      "execution_count": null,
      "outputs": []
    },
    {
      "cell_type": "code",
      "metadata": {
        "colab": {
          "base_uri": "https://localhost:8080/"
        },
        "id": "Jfzurr_ZmnKt",
        "outputId": "62fc5185-29a7-4b2c-bb06-8a964fa7bfa4"
      },
      "source": [
        "print((y_pred == y_test).sum() / len(y_pred))"
      ],
      "execution_count": null,
      "outputs": [
        {
          "output_type": "stream",
          "name": "stdout",
          "text": [
            "0.5944\n"
          ]
        }
      ]
    },
    {
      "cell_type": "code",
      "metadata": {
        "colab": {
          "base_uri": "https://localhost:8080/"
        },
        "id": "pFHfGek_m2bo",
        "outputId": "be26fc9e-0856-4122-fd1a-9248fb3aed6d"
      },
      "source": [
        "((np.max(y_pred_proba, axis=1) - 0.5) ** 2).mean()"
      ],
      "execution_count": null,
      "outputs": [
        {
          "output_type": "execute_result",
          "data": {
            "text/plain": [
              "0.2447600689075382"
            ]
          },
          "metadata": {},
          "execution_count": 97
        }
      ]
    },
    {
      "cell_type": "markdown",
      "metadata": {
        "id": "ddupuAClxYTo"
      },
      "source": [
        "#### PATE-GAN"
      ]
    },
    {
      "cell_type": "code",
      "metadata": {
        "id": "16idKAqvor-y"
      },
      "source": [
        "dataset = pd.concat([origin_df, census_pategan_df], ignore_index=True)\n",
        "target = np.concatenate((np.zeros(origin_df.shape[0]), np.ones(census_pategan_df.shape[0])))"
      ],
      "execution_count": null,
      "outputs": []
    },
    {
      "cell_type": "code",
      "metadata": {
        "id": "0f28Z4Dbphxm"
      },
      "source": [
        "clf = svm.SVC(kernel='linear', C = 1.0, verbose=1, max_iter=1000, probability=True)"
      ],
      "execution_count": null,
      "outputs": []
    },
    {
      "cell_type": "code",
      "metadata": {
        "id": "GtbFHzXmpjkv"
      },
      "source": [
        "x = pd.get_dummies(data=dataset, columns=['workclass', 'education', 'marital-status', 'occupation', 'race', 'sex', 'native-country']).to_numpy()"
      ],
      "execution_count": null,
      "outputs": []
    },
    {
      "cell_type": "code",
      "metadata": {
        "id": "QTZF6eJQplkr"
      },
      "source": [
        "x, target = unison_shuffled_copies(x, target)"
      ],
      "execution_count": null,
      "outputs": []
    },
    {
      "cell_type": "code",
      "metadata": {
        "id": "GWyJPHZDpnjK"
      },
      "source": [
        "x_train = x[:int(len(x)/2)]\n",
        "x_test = x[int(len(x)/2):]\n",
        "y_train = target[:int(len(target)/2)]\n",
        "y_test = target[int(len(target)/2):]"
      ],
      "execution_count": null,
      "outputs": []
    },
    {
      "cell_type": "code",
      "metadata": {
        "colab": {
          "base_uri": "https://localhost:8080/"
        },
        "id": "2EDoSOMyppGT",
        "outputId": "c643e8c4-66ba-4ffe-b531-cdafe52f5873"
      },
      "source": [
        "clf.fit(x_train, y_train)"
      ],
      "execution_count": null,
      "outputs": [
        {
          "output_type": "stream",
          "name": "stdout",
          "text": [
            "[LibSVM]"
          ]
        },
        {
          "output_type": "stream",
          "name": "stderr",
          "text": [
            "/usr/local/lib/python3.7/dist-packages/sklearn/svm/_base.py:289: ConvergenceWarning: Solver terminated early (max_iter=1000).  Consider pre-processing your data with StandardScaler or MinMaxScaler.\n",
            "  ConvergenceWarning,\n"
          ]
        },
        {
          "output_type": "execute_result",
          "data": {
            "text/plain": [
              "SVC(kernel='linear', max_iter=1000, probability=True, verbose=1)"
            ]
          },
          "metadata": {},
          "execution_count": 82
        }
      ]
    },
    {
      "cell_type": "code",
      "metadata": {
        "colab": {
          "base_uri": "https://localhost:8080/"
        },
        "id": "Cge2ROHzpq0s",
        "outputId": "566796d1-d56f-4deb-eced-13c7b866de76"
      },
      "source": [
        "score = clf.score(x_train, y_train)\n",
        "print(\"Score: \", score)"
      ],
      "execution_count": null,
      "outputs": [
        {
          "output_type": "stream",
          "name": "stdout",
          "text": [
            "Score:  0.7957503320053121\n"
          ]
        }
      ]
    },
    {
      "cell_type": "code",
      "metadata": {
        "id": "_C9RV2C6ptvO"
      },
      "source": [
        "y_pred = clf.predict(x_test)\n",
        "y_pred_proba = clf.predict_proba(x_test)"
      ],
      "execution_count": null,
      "outputs": []
    },
    {
      "cell_type": "code",
      "metadata": {
        "colab": {
          "base_uri": "https://localhost:8080/"
        },
        "id": "fiF_WHfhpvU8",
        "outputId": "437a159c-8dd5-4585-b0e4-ba939f9ea587"
      },
      "source": [
        "print((y_pred == y_test).sum() / len(y_pred))"
      ],
      "execution_count": null,
      "outputs": [
        {
          "output_type": "stream",
          "name": "stdout",
          "text": [
            "0.7899628252788105\n"
          ]
        }
      ]
    },
    {
      "cell_type": "code",
      "metadata": {
        "colab": {
          "base_uri": "https://localhost:8080/"
        },
        "id": "3Jos1UP8pxLw",
        "outputId": "0481652c-9b9a-4c49-e25a-908f217c590b"
      },
      "source": [
        "((np.max(y_pred_proba, axis=1) - 0.5) ** 2).mean()"
      ],
      "execution_count": null,
      "outputs": [
        {
          "output_type": "execute_result",
          "data": {
            "text/plain": [
              "0.20831243676296357"
            ]
          },
          "metadata": {},
          "execution_count": 86
        }
      ]
    },
    {
      "cell_type": "markdown",
      "metadata": {
        "id": "42Yci5c5qEYM"
      },
      "source": [
        "#### My model"
      ]
    },
    {
      "cell_type": "code",
      "metadata": {
        "id": "JDHWWRIlp0Lj"
      },
      "source": [
        "dataset = pd.concat([origin_df, mymodel_df], ignore_index=True)\n",
        "target = np.concatenate((np.zeros(origin_df.shape[0]), np.ones(mymodel_df.shape[0])))"
      ],
      "execution_count": null,
      "outputs": []
    },
    {
      "cell_type": "code",
      "metadata": {
        "id": "jw3cxkiCqhZW"
      },
      "source": [
        "clf = svm.SVC(kernel='linear', C = 1.0, verbose=1, max_iter=1000, probability=True)"
      ],
      "execution_count": null,
      "outputs": []
    },
    {
      "cell_type": "code",
      "metadata": {
        "id": "e4fXT0crqmY7"
      },
      "source": [
        "x = pd.get_dummies(data=dataset, columns=['workclass', 'education', 'marital-status', 'occupation', 'race', 'sex', 'native-country']).to_numpy()"
      ],
      "execution_count": null,
      "outputs": []
    },
    {
      "cell_type": "code",
      "metadata": {
        "id": "SZA2Hy3Qqn-a"
      },
      "source": [
        "x, target = unison_shuffled_copies(x, target)"
      ],
      "execution_count": null,
      "outputs": []
    },
    {
      "cell_type": "code",
      "metadata": {
        "id": "lflkVrmlqq0m"
      },
      "source": [
        "x_train = x[:int(len(x)/2)]\n",
        "x_test = x[int(len(x)/2):]\n",
        "y_train = target[:int(len(target)/2)]\n",
        "y_test = target[int(len(target)/2):]"
      ],
      "execution_count": null,
      "outputs": []
    },
    {
      "cell_type": "code",
      "metadata": {
        "colab": {
          "base_uri": "https://localhost:8080/"
        },
        "id": "FyAHyUu8qsT5",
        "outputId": "36993040-0f5d-49ac-f8f8-83ebc78eb292"
      },
      "source": [
        "clf.fit(x_train, y_train)"
      ],
      "execution_count": null,
      "outputs": [
        {
          "output_type": "stream",
          "name": "stdout",
          "text": [
            "[LibSVM]"
          ]
        },
        {
          "output_type": "stream",
          "name": "stderr",
          "text": [
            "/usr/local/lib/python3.7/dist-packages/sklearn/svm/_base.py:289: ConvergenceWarning: Solver terminated early (max_iter=1000).  Consider pre-processing your data with StandardScaler or MinMaxScaler.\n",
            "  ConvergenceWarning,\n"
          ]
        },
        {
          "output_type": "execute_result",
          "data": {
            "text/plain": [
              "SVC(kernel='linear', max_iter=1000, probability=True, verbose=1)"
            ]
          },
          "metadata": {},
          "execution_count": 121
        }
      ]
    },
    {
      "cell_type": "code",
      "metadata": {
        "colab": {
          "base_uri": "https://localhost:8080/"
        },
        "id": "lv6Ffuwvqt59",
        "outputId": "3683a399-59cf-4b63-a813-d9692955f8e9"
      },
      "source": [
        "score = clf.score(x_train, y_train)\n",
        "print(\"Score: \", score)"
      ],
      "execution_count": null,
      "outputs": [
        {
          "output_type": "stream",
          "name": "stdout",
          "text": [
            "Score:  0.598\n"
          ]
        }
      ]
    },
    {
      "cell_type": "code",
      "metadata": {
        "id": "0yuOkVXoqwmx"
      },
      "source": [
        "y_pred = clf.predict(x_test)\n",
        "y_pred_proba = clf.predict_proba(x_test)"
      ],
      "execution_count": null,
      "outputs": []
    },
    {
      "cell_type": "code",
      "metadata": {
        "colab": {
          "base_uri": "https://localhost:8080/"
        },
        "id": "889blWmbqyKL",
        "outputId": "fcd7fd03-b2b9-49b8-a4a1-033a1175c130"
      },
      "source": [
        "((np.max(y_pred_proba, axis=1) - 0.5) ** 2).mean()"
      ],
      "execution_count": null,
      "outputs": [
        {
          "output_type": "execute_result",
          "data": {
            "text/plain": [
              "8.267567848018613e-05"
            ]
          },
          "metadata": {},
          "execution_count": 124
        }
      ]
    },
    {
      "cell_type": "code",
      "metadata": {
        "id": "pzhhNsjWq0eJ"
      },
      "source": [
        ""
      ],
      "execution_count": null,
      "outputs": []
    }
  ]
}